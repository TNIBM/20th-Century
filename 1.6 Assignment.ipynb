{
 "cells": [
  {
   "cell_type": "code",
   "execution_count": 8,
   "id": "74219bc1-c24f-4a24-8161-f1243b1f609b",
   "metadata": {},
   "outputs": [],
   "source": [
    "import pandas as pd\n",
    "import numpy as np\n",
    "import spacy\n",
    "from spacy import displacy\n",
    "import networkx as nx\n",
    "import os\n",
    "import matplotlib.pyplot as plt\n",
    "import scipy\n",
    "import re"
   ]
  },
  {
   "cell_type": "code",
   "execution_count": 9,
   "id": "bc672205-3561-46f6-ab15-da456bd75b28",
   "metadata": {
    "scrolled": true
   },
   "outputs": [
    {
     "name": "stdout",
     "output_type": "stream",
     "text": [
      "Collecting en-core-web-sm==3.4.1\n",
      "  Downloading https://github.com/explosion/spacy-models/releases/download/en_core_web_sm-3.4.1/en_core_web_sm-3.4.1-py3-none-any.whl (12.8 MB)\n",
      "     ---------------------------------------- 0.0/12.8 MB ? eta -:--:--\n",
      "      --------------------------------------- 0.3/12.8 MB ? eta -:--:--\n",
      "     - -------------------------------------- 0.5/12.8 MB 4.2 MB/s eta 0:00:03\n",
      "     ---- ----------------------------------- 1.3/12.8 MB 2.8 MB/s eta 0:00:05\n",
      "     ----- ---------------------------------- 1.8/12.8 MB 2.7 MB/s eta 0:00:05\n",
      "     ------- -------------------------------- 2.4/12.8 MB 2.6 MB/s eta 0:00:04\n",
      "     ------- -------------------------------- 2.4/12.8 MB 2.6 MB/s eta 0:00:04\n",
      "     ---------- ----------------------------- 3.4/12.8 MB 2.5 MB/s eta 0:00:04\n",
      "     ------------ --------------------------- 3.9/12.8 MB 2.6 MB/s eta 0:00:04\n",
      "     ------------- -------------------------- 4.2/12.8 MB 2.5 MB/s eta 0:00:04\n",
      "     ------------- -------------------------- 4.5/12.8 MB 2.4 MB/s eta 0:00:04\n",
      "     -------------- ------------------------- 4.7/12.8 MB 2.3 MB/s eta 0:00:04\n",
      "     --------------- ------------------------ 5.0/12.8 MB 2.1 MB/s eta 0:00:04\n",
      "     ---------------- ----------------------- 5.2/12.8 MB 2.0 MB/s eta 0:00:04\n",
      "     ------------------ --------------------- 5.8/12.8 MB 2.0 MB/s eta 0:00:04\n",
      "     ------------------- -------------------- 6.3/12.8 MB 2.1 MB/s eta 0:00:04\n",
      "     ---------------------- ----------------- 7.3/12.8 MB 2.2 MB/s eta 0:00:03\n",
      "     ------------------------- -------------- 8.1/12.8 MB 2.4 MB/s eta 0:00:02\n",
      "     --------------------------- ------------ 8.9/12.8 MB 2.4 MB/s eta 0:00:02\n",
      "     ----------------------------- ---------- 9.4/12.8 MB 2.4 MB/s eta 0:00:02\n",
      "     ------------------------------- -------- 10.0/12.8 MB 2.5 MB/s eta 0:00:02\n",
      "     --------------------------------- ------ 10.7/12.8 MB 2.5 MB/s eta 0:00:01\n",
      "     ---------------------------------- ----- 11.0/12.8 MB 2.5 MB/s eta 0:00:01\n",
      "     ------------------------------------ --- 11.8/12.8 MB 2.5 MB/s eta 0:00:01\n",
      "     -------------------------------------- - 12.3/12.8 MB 2.5 MB/s eta 0:00:01\n",
      "     ---------------------------------------- 12.8/12.8 MB 2.5 MB/s eta 0:00:00\n",
      "Requirement already satisfied: spacy<3.5.0,>=3.4.0 in c:\\users\\tn1\\anaconda3\\envs\\venv_20th_century\\lib\\site-packages (from en-core-web-sm==3.4.1) (3.4.3)\n",
      "Requirement already satisfied: spacy-legacy<3.1.0,>=3.0.10 in c:\\users\\tn1\\anaconda3\\envs\\venv_20th_century\\lib\\site-packages (from spacy<3.5.0,>=3.4.0->en-core-web-sm==3.4.1) (3.0.12)\n",
      "Requirement already satisfied: spacy-loggers<2.0.0,>=1.0.0 in c:\\users\\tn1\\anaconda3\\envs\\venv_20th_century\\lib\\site-packages (from spacy<3.5.0,>=3.4.0->en-core-web-sm==3.4.1) (1.0.5)\n",
      "Requirement already satisfied: murmurhash<1.1.0,>=0.28.0 in c:\\users\\tn1\\anaconda3\\envs\\venv_20th_century\\lib\\site-packages (from spacy<3.5.0,>=3.4.0->en-core-web-sm==3.4.1) (1.0.12)\n",
      "Requirement already satisfied: cymem<2.1.0,>=2.0.2 in c:\\users\\tn1\\anaconda3\\envs\\venv_20th_century\\lib\\site-packages (from spacy<3.5.0,>=3.4.0->en-core-web-sm==3.4.1) (2.0.11)\n",
      "Requirement already satisfied: preshed<3.1.0,>=3.0.2 in c:\\users\\tn1\\anaconda3\\envs\\venv_20th_century\\lib\\site-packages (from spacy<3.5.0,>=3.4.0->en-core-web-sm==3.4.1) (3.0.9)\n",
      "Requirement already satisfied: thinc<8.2.0,>=8.1.0 in c:\\users\\tn1\\anaconda3\\envs\\venv_20th_century\\lib\\site-packages (from spacy<3.5.0,>=3.4.0->en-core-web-sm==3.4.1) (8.1.12)\n",
      "Requirement already satisfied: wasabi<1.1.0,>=0.9.1 in c:\\users\\tn1\\anaconda3\\envs\\venv_20th_century\\lib\\site-packages (from spacy<3.5.0,>=3.4.0->en-core-web-sm==3.4.1) (0.10.1)\n",
      "Requirement already satisfied: srsly<3.0.0,>=2.4.3 in c:\\users\\tn1\\anaconda3\\envs\\venv_20th_century\\lib\\site-packages (from spacy<3.5.0,>=3.4.0->en-core-web-sm==3.4.1) (2.5.1)\n",
      "Requirement already satisfied: catalogue<2.1.0,>=2.0.6 in c:\\users\\tn1\\anaconda3\\envs\\venv_20th_century\\lib\\site-packages (from spacy<3.5.0,>=3.4.0->en-core-web-sm==3.4.1) (2.0.10)\n",
      "Requirement already satisfied: typer<0.8.0,>=0.3.0 in c:\\users\\tn1\\anaconda3\\envs\\venv_20th_century\\lib\\site-packages (from spacy<3.5.0,>=3.4.0->en-core-web-sm==3.4.1) (0.7.0)\n",
      "Requirement already satisfied: pathy>=0.3.5 in c:\\users\\tn1\\anaconda3\\envs\\venv_20th_century\\lib\\site-packages (from spacy<3.5.0,>=3.4.0->en-core-web-sm==3.4.1) (0.11.0)\n",
      "Requirement already satisfied: tqdm<5.0.0,>=4.38.0 in c:\\users\\tn1\\anaconda3\\envs\\venv_20th_century\\lib\\site-packages (from spacy<3.5.0,>=3.4.0->en-core-web-sm==3.4.1) (4.67.1)\n",
      "Requirement already satisfied: numpy>=1.15.0 in c:\\users\\tn1\\anaconda3\\envs\\venv_20th_century\\lib\\site-packages (from spacy<3.5.0,>=3.4.0->en-core-web-sm==3.4.1) (1.20.3)\n",
      "Requirement already satisfied: requests<3.0.0,>=2.13.0 in c:\\users\\tn1\\anaconda3\\envs\\venv_20th_century\\lib\\site-packages (from spacy<3.5.0,>=3.4.0->en-core-web-sm==3.4.1) (2.28.1)\n",
      "Requirement already satisfied: pydantic!=1.8,!=1.8.1,<1.11.0,>=1.7.4 in c:\\users\\tn1\\anaconda3\\envs\\venv_20th_century\\lib\\site-packages (from spacy<3.5.0,>=3.4.0->en-core-web-sm==3.4.1) (1.10.21)\n",
      "Requirement already satisfied: jinja2 in c:\\users\\tn1\\anaconda3\\envs\\venv_20th_century\\lib\\site-packages (from spacy<3.5.0,>=3.4.0->en-core-web-sm==3.4.1) (3.1.5)\n",
      "Requirement already satisfied: setuptools in c:\\users\\tn1\\anaconda3\\envs\\venv_20th_century\\lib\\site-packages (from spacy<3.5.0,>=3.4.0->en-core-web-sm==3.4.1) (75.8.0)\n",
      "Requirement already satisfied: packaging>=20.0 in c:\\users\\tn1\\anaconda3\\envs\\venv_20th_century\\lib\\site-packages (from spacy<3.5.0,>=3.4.0->en-core-web-sm==3.4.1) (24.2)\n",
      "Requirement already satisfied: langcodes<4.0.0,>=3.2.0 in c:\\users\\tn1\\anaconda3\\envs\\venv_20th_century\\lib\\site-packages (from spacy<3.5.0,>=3.4.0->en-core-web-sm==3.4.1) (3.5.0)\n",
      "Requirement already satisfied: language-data>=1.2 in c:\\users\\tn1\\anaconda3\\envs\\venv_20th_century\\lib\\site-packages (from langcodes<4.0.0,>=3.2.0->spacy<3.5.0,>=3.4.0->en-core-web-sm==3.4.1) (1.3.0)\n",
      "Requirement already satisfied: smart-open<7.0.0,>=5.2.1 in c:\\users\\tn1\\anaconda3\\envs\\venv_20th_century\\lib\\site-packages (from pathy>=0.3.5->spacy<3.5.0,>=3.4.0->en-core-web-sm==3.4.1) (6.4.0)\n",
      "Requirement already satisfied: pathlib-abc==0.1.1 in c:\\users\\tn1\\anaconda3\\envs\\venv_20th_century\\lib\\site-packages (from pathy>=0.3.5->spacy<3.5.0,>=3.4.0->en-core-web-sm==3.4.1) (0.1.1)\n",
      "Requirement already satisfied: typing-extensions>=4.2.0 in c:\\users\\tn1\\anaconda3\\envs\\venv_20th_century\\lib\\site-packages (from pydantic!=1.8,!=1.8.1,<1.11.0,>=1.7.4->spacy<3.5.0,>=3.4.0->en-core-web-sm==3.4.1) (4.12.2)\n",
      "Requirement already satisfied: charset-normalizer<3,>=2 in c:\\users\\tn1\\anaconda3\\envs\\venv_20th_century\\lib\\site-packages (from requests<3.0.0,>=2.13.0->spacy<3.5.0,>=3.4.0->en-core-web-sm==3.4.1) (2.1.1)\n",
      "Requirement already satisfied: idna<4,>=2.5 in c:\\users\\tn1\\anaconda3\\envs\\venv_20th_century\\lib\\site-packages (from requests<3.0.0,>=2.13.0->spacy<3.5.0,>=3.4.0->en-core-web-sm==3.4.1) (3.10)\n",
      "Requirement already satisfied: urllib3<1.27,>=1.21.1 in c:\\users\\tn1\\anaconda3\\envs\\venv_20th_century\\lib\\site-packages (from requests<3.0.0,>=2.13.0->spacy<3.5.0,>=3.4.0->en-core-web-sm==3.4.1) (1.26.20)\n",
      "Requirement already satisfied: certifi>=2017.4.17 in c:\\users\\tn1\\anaconda3\\envs\\venv_20th_century\\lib\\site-packages (from requests<3.0.0,>=2.13.0->spacy<3.5.0,>=3.4.0->en-core-web-sm==3.4.1) (2025.1.31)\n",
      "Requirement already satisfied: blis<0.8.0,>=0.7.8 in c:\\users\\tn1\\anaconda3\\envs\\venv_20th_century\\lib\\site-packages (from thinc<8.2.0,>=8.1.0->spacy<3.5.0,>=3.4.0->en-core-web-sm==3.4.1) (0.7.11)\n",
      "Requirement already satisfied: confection<1.0.0,>=0.0.1 in c:\\users\\tn1\\anaconda3\\envs\\venv_20th_century\\lib\\site-packages (from thinc<8.2.0,>=8.1.0->spacy<3.5.0,>=3.4.0->en-core-web-sm==3.4.1) (0.1.5)\n",
      "Requirement already satisfied: colorama in c:\\users\\tn1\\anaconda3\\envs\\venv_20th_century\\lib\\site-packages (from tqdm<5.0.0,>=4.38.0->spacy<3.5.0,>=3.4.0->en-core-web-sm==3.4.1) (0.4.6)\n",
      "Requirement already satisfied: click<9.0.0,>=7.1.1 in c:\\users\\tn1\\anaconda3\\envs\\venv_20th_century\\lib\\site-packages (from typer<0.8.0,>=0.3.0->spacy<3.5.0,>=3.4.0->en-core-web-sm==3.4.1) (8.1.8)\n",
      "Requirement already satisfied: MarkupSafe>=2.0 in c:\\users\\tn1\\anaconda3\\envs\\venv_20th_century\\lib\\site-packages (from jinja2->spacy<3.5.0,>=3.4.0->en-core-web-sm==3.4.1) (3.0.2)\n",
      "Requirement already satisfied: marisa-trie>=1.1.0 in c:\\users\\tn1\\anaconda3\\envs\\venv_20th_century\\lib\\site-packages (from language-data>=1.2->langcodes<4.0.0,>=3.2.0->spacy<3.5.0,>=3.4.0->en-core-web-sm==3.4.1) (1.2.1)\n",
      "[+] Download and installation successful\n",
      "You can now load the package via spacy.load('en_core_web_sm')\n"
     ]
    }
   ],
   "source": [
    "# Download English module\n",
    "\n",
    "!python -m spacy download en_core_web_sm"
   ]
  },
  {
   "cell_type": "code",
   "execution_count": 10,
   "id": "810b0c87-9f6e-441e-83c7-3e0ef66dbfc2",
   "metadata": {},
   "outputs": [],
   "source": [
    "# Load spacy English module\n",
    "\n",
    "NER = spacy.load(\"en_core_web_sm\")"
   ]
  },
  {
   "cell_type": "markdown",
   "id": "81153e79-f88a-4b3b-acf6-be72305973bb",
   "metadata": {},
   "source": [
    "## Load 20th Century file"
   ]
  },
  {
   "cell_type": "code",
   "execution_count": 12,
   "id": "66aa9ac4-3f04-4993-b64e-87b555e2ec0e",
   "metadata": {},
   "outputs": [],
   "source": [
    "# Load the book\n",
    "\n",
    "with open('20th_century.txt', 'r', errors='ignore') as file:\n",
    "    data = file.read().replace('\\n', '')"
   ]
  },
  {
   "cell_type": "code",
   "execution_count": 13,
   "id": "3a3c2df2-4129-49fb-bf64-00783250147e",
   "metadata": {},
   "outputs": [],
   "source": [
    "book = NER(data)"
   ]
  },
  {
   "cell_type": "code",
   "execution_count": 14,
   "id": "f12b6097-89a6-489c-b6f1-3b5b2b6d2e44",
   "metadata": {
    "scrolled": true
   },
   "outputs": [
    {
     "data": {
      "text/html": [
       "<span class=\"tex2jax_ignore\"><div class=\"entities\" style=\"line-height: 2.5; direction: ltr\">citizens' lives and shaped \n",
       "<mark class=\"entity\" style=\"background: #bfe1d9; padding: 0.45em 0.6em; margin: 0 0.25em; line-height: 1; border-radius: 0.35em;\">\n",
       "    the 21st century\n",
       "    <span style=\"font-size: 0.8em; font-weight: bold; line-height: 1; border-radius: 0.35em; vertical-align: middle; margin-left: 0.5rem\">DATE</span>\n",
       "</mark>\n",
       " into what it is \n",
       "<mark class=\"entity\" style=\"background: #bfe1d9; padding: 0.45em 0.6em; margin: 0 0.25em; line-height: 1; border-radius: 0.35em;\">\n",
       "    today\n",
       "    <span style=\"font-size: 0.8em; font-weight: bold; line-height: 1; border-radius: 0.35em; vertical-align: middle; margin-left: 0.5rem\">DATE</span>\n",
       "</mark>\n",
       ".Historic events in \n",
       "<mark class=\"entity\" style=\"background: #bfe1d9; padding: 0.45em 0.6em; margin: 0 0.25em; line-height: 1; border-radius: 0.35em;\">\n",
       "    the 20th\n",
       "    <span style=\"font-size: 0.8em; font-weight: bold; line-height: 1; border-radius: 0.35em; vertical-align: middle; margin-left: 0.5rem\">DATE</span>\n",
       "</mark>\n",
       " century[edit]World at the beginning of the century[edit]Main article: \n",
       "<mark class=\"entity\" style=\"background: #c887fb; padding: 0.45em 0.6em; margin: 0 0.25em; line-height: 1; border-radius: 0.35em;\">\n",
       "    Edwardian\n",
       "    <span style=\"font-size: 0.8em; font-weight: bold; line-height: 1; border-radius: 0.35em; vertical-align: middle; margin-left: 0.5rem\">NORP</span>\n",
       "</mark>\n",
       " eraThe new beginning of \n",
       "<mark class=\"entity\" style=\"background: #bfe1d9; padding: 0.45em 0.6em; margin: 0 0.25em; line-height: 1; border-radius: 0.35em;\">\n",
       "    the 20th century\n",
       "    <span style=\"font-size: 0.8em; font-weight: bold; line-height: 1; border-radius: 0.35em; vertical-align: middle; margin-left: 0.5rem\">DATE</span>\n",
       "</mark>\n",
       " marked significant changes. \n",
       "<mark class=\"entity\" style=\"background: #bfe1d9; padding: 0.45em 0.6em; margin: 0 0.25em; line-height: 1; border-radius: 0.35em;\">\n",
       "    The 1900s\n",
       "    <span style=\"font-size: 0.8em; font-weight: bold; line-height: 1; border-radius: 0.35em; vertical-align: middle; margin-left: 0.5rem\">DATE</span>\n",
       "</mark>\n",
       " saw \n",
       "<mark class=\"entity\" style=\"background: #bfe1d9; padding: 0.45em 0.6em; margin: 0 0.25em; line-height: 1; border-radius: 0.35em;\">\n",
       "    the decade\n",
       "    <span style=\"font-size: 0.8em; font-weight: bold; line-height: 1; border-radius: 0.35em; vertical-align: middle; margin-left: 0.5rem\">DATE</span>\n",
       "</mark>\n",
       " herald a series of inventions, including the automobile, airplane and radio broadcasting. \n",
       "<mark class=\"entity\" style=\"background: #bfe1d9; padding: 0.45em 0.6em; margin: 0 0.25em; line-height: 1; border-radius: 0.35em;\">\n",
       "    1914\n",
       "    <span style=\"font-size: 0.8em; font-weight: bold; line-height: 1; border-radius: 0.35em; vertical-align: middle; margin-left: 0.5rem\">DATE</span>\n",
       "</mark>\n",
       " saw the completion of \n",
       "<mark class=\"entity\" style=\"background: #ff9561; padding: 0.45em 0.6em; margin: 0 0.25em; line-height: 1; border-radius: 0.35em;\">\n",
       "    the Panama Canal\n",
       "    <span style=\"font-size: 0.8em; font-weight: bold; line-height: 1; border-radius: 0.35em; vertical-align: middle; margin-left: 0.5rem\">LOC</span>\n",
       "</mark>\n",
       ".From \n",
       "<mark class=\"entity\" style=\"background: #bfe1d9; padding: 0.45em 0.6em; margin: 0 0.25em; line-height: 1; border-radius: 0.35em;\">\n",
       "    1914 to 1918\n",
       "    <span style=\"font-size: 0.8em; font-weight: bold; line-height: 1; border-radius: 0.35em; vertical-align: middle; margin-left: 0.5rem\">DATE</span>\n",
       "</mark>\n",
       ", \n",
       "<mark class=\"entity\" style=\"background: #ffeb80; padding: 0.45em 0.6em; margin: 0 0.25em; line-height: 1; border-radius: 0.35em;\">\n",
       "    the First World War\n",
       "    <span style=\"font-size: 0.8em; font-weight: bold; line-height: 1; border-radius: 0.35em; vertical-align: middle; margin-left: 0.5rem\">EVENT</span>\n",
       "</mark>\n",
       ", and its aftermath, caused major changes in the power balance of the world, destroying or transforming some of the most powerful empires.&quot;The war to end all wars&quot;: \n",
       "<mark class=\"entity\" style=\"background: #ffeb80; padding: 0.45em 0.6em; margin: 0 0.25em; line-height: 1; border-radius: 0.35em;\">\n",
       "    World War I\n",
       "    <span style=\"font-size: 0.8em; font-weight: bold; line-height: 1; border-radius: 0.35em; vertical-align: middle; margin-left: 0.5rem\">EVENT</span>\n",
       "</mark>\n",
       " (\n",
       "<mark class=\"entity\" style=\"background: #e4e7d2; padding: 0.45em 0.6em; margin: 0 0.25em; line-height: 1; border-radius: 0.35em;\">\n",
       "    1914â€“1918)[edit]Main\n",
       "    <span style=\"font-size: 0.8em; font-weight: bold; line-height: 1; border-radius: 0.35em; vertical-align: middle; margin-left: 0.5rem\">CARDINAL</span>\n",
       "</mark>\n",
       " article: \n",
       "<mark class=\"entity\" style=\"background: #ffeb80; padding: 0.45em 0.6em; margin: 0 0.25em; line-height: 1; border-radius: 0.35em;\">\n",
       "    World War IArrest\n",
       "    <span style=\"font-size: 0.8em; font-weight: bold; line-height: 1; border-radius: 0.35em; vertical-align: middle; margin-left: 0.5rem\">EVENT</span>\n",
       "</mark>\n",
       " of a suspect in \n",
       "<mark class=\"entity\" style=\"background: #feca74; padding: 0.45em 0.6em; margin: 0 0.25em; line-height: 1; border-radius: 0.35em;\">\n",
       "    Sarajevo\n",
       "    <span style=\"font-size: 0.8em; font-weight: bold; line-height: 1; border-radius: 0.35em; vertical-align: middle; margin-left: 0.5rem\">GPE</span>\n",
       "</mark>\n",
       " following \n",
       "<mark class=\"entity\" style=\"background: #9cc9cc; padding: 0.45em 0.6em; margin: 0 0.25em; line-height: 1; border-radius: 0.35em;\">\n",
       "    the Assassination of Archduke Franz FerdinandThe First World War\n",
       "    <span style=\"font-size: 0.8em; font-weight: bold; line-height: 1; border-radius: 0.35em; vertical-align: middle; margin-left: 0.5rem\">FAC</span>\n",
       "</mark>\n",
       " (or simply \n",
       "<mark class=\"entity\" style=\"background: #7aecec; padding: 0.45em 0.6em; margin: 0 0.25em; line-height: 1; border-radius: 0.35em;\">\n",
       "    WWI\n",
       "    <span style=\"font-size: 0.8em; font-weight: bold; line-height: 1; border-radius: 0.35em; vertical-align: middle; margin-left: 0.5rem\">ORG</span>\n",
       "</mark>\n",
       "), termed &quot;\n",
       "<mark class=\"entity\" style=\"background: #ffeb80; padding: 0.45em 0.6em; margin: 0 0.25em; line-height: 1; border-radius: 0.35em;\">\n",
       "    The Great War\n",
       "    <span style=\"font-size: 0.8em; font-weight: bold; line-height: 1; border-radius: 0.35em; vertical-align: middle; margin-left: 0.5rem\">EVENT</span>\n",
       "</mark>\n",
       "&quot; by contemporaries, started in \n",
       "<mark class=\"entity\" style=\"background: #bfe1d9; padding: 0.45em 0.6em; margin: 0 0.25em; line-height: 1; border-radius: 0.35em;\">\n",
       "    July 1914\n",
       "    <span style=\"font-size: 0.8em; font-weight: bold; line-height: 1; border-radius: 0.35em; vertical-align: middle; margin-left: 0.5rem\">DATE</span>\n",
       "</mark>\n",
       " and ended in \n",
       "<mark class=\"entity\" style=\"background: #bfe1d9; padding: 0.45em 0.6em; margin: 0 0.25em; line-height: 1; border-radius: 0.35em;\">\n",
       "    November 1918\n",
       "    <span style=\"font-size: 0.8em; font-weight: bold; line-height: 1; border-radius: 0.35em; vertical-align: middle; margin-left: 0.5rem\">DATE</span>\n",
       "</mark>\n",
       ". The war was precipitated by the Assassination in Sarajevo of the Austro-Hungarian Empire's heir to the throne, \n",
       "<mark class=\"entity\" style=\"background: #aa9cfc; padding: 0.45em 0.6em; margin: 0 0.25em; line-height: 1; border-radius: 0.35em;\">\n",
       "    Erzherzog Franz Ferdinand\n",
       "    <span style=\"font-size: 0.8em; font-weight: bold; line-height: 1; border-radius: 0.35em; vertical-align: middle; margin-left: 0.5rem\">PERSON</span>\n",
       "</mark>\n",
       ", by \n",
       "<mark class=\"entity\" style=\"background: #aa9cfc; padding: 0.45em 0.6em; margin: 0 0.25em; line-height: 1; border-radius: 0.35em;\">\n",
       "    Gavrilo Princip\n",
       "    <span style=\"font-size: 0.8em; font-weight: bold; line-height: 1; border-radius: 0.35em; vertical-align: middle; margin-left: 0.5rem\">PERSON</span>\n",
       "</mark>\n",
       ", a member of the \n",
       "<mark class=\"entity\" style=\"background: #feca74; padding: 0.45em 0.6em; margin: 0 0.25em; line-height: 1; border-radius: 0.35em;\">\n",
       "    Young Bosnia\n",
       "    <span style=\"font-size: 0.8em; font-weight: bold; line-height: 1; border-radius: 0.35em; vertical-align: middle; margin-left: 0.5rem\">GPE</span>\n",
       "</mark>\n",
       " liberation movement. After a period of diplomatic and military escalation known as \n",
       "<mark class=\"entity\" style=\"background: #ffeb80; padding: 0.45em 0.6em; margin: 0 0.25em; line-height: 1; border-radius: 0.35em;\">\n",
       "    the July Crisis\n",
       "    <span style=\"font-size: 0.8em; font-weight: bold; line-height: 1; border-radius: 0.35em; vertical-align: middle; margin-left: 0.5rem\">EVENT</span>\n",
       "</mark>\n",
       ", by \n",
       "<mark class=\"entity\" style=\"background: #bfe1d9; padding: 0.45em 0.6em; margin: 0 0.25em; line-height: 1; border-radius: 0.35em;\">\n",
       "    the end of July 1914\n",
       "    <span style=\"font-size: 0.8em; font-weight: bold; line-height: 1; border-radius: 0.35em; vertical-align: middle; margin-left: 0.5rem\">DATE</span>\n",
       "</mark>\n",
       " two coalitions were at war: the </div></span>"
      ],
      "text/plain": [
       "<IPython.core.display.HTML object>"
      ]
     },
     "metadata": {},
     "output_type": "display_data"
    }
   ],
   "source": [
    "# Visualize identified entities\n",
    "\n",
    "displacy.render(book[273:500], style = \"ent\", jupyter = True)"
   ]
  },
  {
   "cell_type": "markdown",
   "id": "70760a17-2466-4060-a825-694ce4ecc2d7",
   "metadata": {},
   "source": [
    "## Get named entity list per sentence"
   ]
  },
  {
   "cell_type": "code",
   "execution_count": 17,
   "id": "41f07843-7642-4b62-a042-c5ede644c735",
   "metadata": {},
   "outputs": [],
   "source": [
    "df_sentences = [] # empty shell to store results\n",
    "\n",
    "# Loop through sentences, get entity list for each sentence\n",
    "for sent in book.sents:\n",
    "    entity_list = [ent.text for ent in sent.ents]\n",
    "    df_sentences.append({\"sentence\": sent, \"entities\": entity_list})\n",
    "    \n",
    "df_sentences = pd.DataFrame(df_sentences)"
   ]
  },
  {
   "cell_type": "code",
   "execution_count": 18,
   "id": "44fc4ad3-1ce1-4a61-8cd9-5acc635acfa2",
   "metadata": {},
   "outputs": [
    {
     "data": {
      "text/html": [
       "<div>\n",
       "<style scoped>\n",
       "    .dataframe tbody tr th:only-of-type {\n",
       "        vertical-align: middle;\n",
       "    }\n",
       "\n",
       "    .dataframe tbody tr th {\n",
       "        vertical-align: top;\n",
       "    }\n",
       "\n",
       "    .dataframe thead th {\n",
       "        text-align: right;\n",
       "    }\n",
       "</style>\n",
       "<table border=\"1\" class=\"dataframe\">\n",
       "  <thead>\n",
       "    <tr style=\"text-align: right;\">\n",
       "      <th></th>\n",
       "      <th>sentence</th>\n",
       "      <th>entities</th>\n",
       "    </tr>\n",
       "  </thead>\n",
       "  <tbody>\n",
       "    <tr>\n",
       "      <th>0</th>\n",
       "      <td>(Key, events, of, the, 20th, century, -, Wikip...</td>\n",
       "      <td>[the 20th century - WikipediaJump, Contribute,...</td>\n",
       "    </tr>\n",
       "    <tr>\n",
       "      <th>1</th>\n",
       "      <td>(accountLog, inPersonal, toolsDonate, Create, ...</td>\n",
       "      <td>[20th, the 20th century]</td>\n",
       "    </tr>\n",
       "    <tr>\n",
       "      <th>2</th>\n",
       "      <td>(World, War, I, (, 1914â€“1918)1.1.2Russian, R...</td>\n",
       "      <td>[World War I]</td>\n",
       "    </tr>\n",
       "    <tr>\n",
       "      <th>3</th>\n",
       "      <td>(depression1.2.2The, rise, of, dictatorship1.3...</td>\n",
       "      <td>[World War II, Pacific1.3.7.1Background1.3.8Ja...</td>\n",
       "    </tr>\n",
       "    <tr>\n",
       "      <th>4</th>\n",
       "      <td>(begins1.4The, post, -, war, world1.4.1The, en...</td>\n",
       "      <td>[Cold War, 1947â€“1991)1.4.3War, the Cold War1...</td>\n",
       "    </tr>\n",
       "    <tr>\n",
       "      <th>5</th>\n",
       "      <td>(What, links, hereRelated, changesUpload, file...</td>\n",
       "      <td>[pageGet, URLDownload, Download, Wikipedia, en...</td>\n",
       "    </tr>\n",
       "    <tr>\n",
       "      <th>6</th>\n",
       "      <td>(The, World, Wars, sparked, tension, between, ...</td>\n",
       "      <td>[the Cold War, the Space Race]</td>\n",
       "    </tr>\n",
       "    <tr>\n",
       "      <th>7</th>\n",
       "      <td>(These, advancements, have, played, a, signifi...</td>\n",
       "      <td>[the 21st century, today]</td>\n",
       "    </tr>\n",
       "    <tr>\n",
       "      <th>8</th>\n",
       "      <td>(Historic, events, in, the, 20th, century[edit...</td>\n",
       "      <td>[the 20th]</td>\n",
       "    </tr>\n",
       "    <tr>\n",
       "      <th>9</th>\n",
       "      <td>(Edwardian, eraThe, new, beginning, of, the, 2...</td>\n",
       "      <td>[Edwardian, the 20th century]</td>\n",
       "    </tr>\n",
       "  </tbody>\n",
       "</table>\n",
       "</div>"
      ],
      "text/plain": [
       "                                            sentence  \\\n",
       "0  (Key, events, of, the, 20th, century, -, Wikip...   \n",
       "1  (accountLog, inPersonal, toolsDonate, Create, ...   \n",
       "2  (World, War, I, (, 1914â€“1918)1.1.2Russian, R...   \n",
       "3  (depression1.2.2The, rise, of, dictatorship1.3...   \n",
       "4  (begins1.4The, post, -, war, world1.4.1The, en...   \n",
       "5  (What, links, hereRelated, changesUpload, file...   \n",
       "6  (The, World, Wars, sparked, tension, between, ...   \n",
       "7  (These, advancements, have, played, a, signifi...   \n",
       "8  (Historic, events, in, the, 20th, century[edit...   \n",
       "9  (Edwardian, eraThe, new, beginning, of, the, 2...   \n",
       "\n",
       "                                            entities  \n",
       "0  [the 20th century - WikipediaJump, Contribute,...  \n",
       "1                           [20th, the 20th century]  \n",
       "2                                      [World War I]  \n",
       "3  [World War II, Pacific1.3.7.1Background1.3.8Ja...  \n",
       "4  [Cold War, 1947â€“1991)1.4.3War, the Cold War1...  \n",
       "5  [pageGet, URLDownload, Download, Wikipedia, en...  \n",
       "6                     [the Cold War, the Space Race]  \n",
       "7                          [the 21st century, today]  \n",
       "8                                         [the 20th]  \n",
       "9                      [Edwardian, the 20th century]  "
      ]
     },
     "execution_count": 18,
     "metadata": {},
     "output_type": "execute_result"
    }
   ],
   "source": [
    "df_sentences.head(10)"
   ]
  },
  {
   "cell_type": "markdown",
   "id": "e31f22a4-bbe9-41c1-899c-31b6423eb162",
   "metadata": {},
   "source": [
    "## Load Country names"
   ]
  },
  {
   "cell_type": "code",
   "execution_count": 20,
   "id": "24f01a7e-638a-4065-8c4c-0ee3c130b1fe",
   "metadata": {},
   "outputs": [],
   "source": [
    "# Import characters\n",
    "\n",
    "countries_df = pd.read_csv(\"countries_list_20th_century_1.5.csv\", index_col = 0)"
   ]
  },
  {
   "cell_type": "code",
   "execution_count": 21,
   "id": "f87a09d2-39ae-4a66-ad74-77c7edbf289b",
   "metadata": {},
   "outputs": [
    {
     "data": {
      "text/html": [
       "<div>\n",
       "<style scoped>\n",
       "    .dataframe tbody tr th:only-of-type {\n",
       "        vertical-align: middle;\n",
       "    }\n",
       "\n",
       "    .dataframe tbody tr th {\n",
       "        vertical-align: top;\n",
       "    }\n",
       "\n",
       "    .dataframe thead th {\n",
       "        text-align: right;\n",
       "    }\n",
       "</style>\n",
       "<table border=\"1\" class=\"dataframe\">\n",
       "  <thead>\n",
       "    <tr style=\"text-align: right;\">\n",
       "      <th></th>\n",
       "      <th>country_name</th>\n",
       "    </tr>\n",
       "  </thead>\n",
       "  <tbody>\n",
       "    <tr>\n",
       "      <th>1</th>\n",
       "      <td>Afghanistan</td>\n",
       "    </tr>\n",
       "    <tr>\n",
       "      <th>2</th>\n",
       "      <td>Albania</td>\n",
       "    </tr>\n",
       "    <tr>\n",
       "      <th>3</th>\n",
       "      <td>Algeria</td>\n",
       "    </tr>\n",
       "    <tr>\n",
       "      <th>4</th>\n",
       "      <td>Andorra</td>\n",
       "    </tr>\n",
       "    <tr>\n",
       "      <th>5</th>\n",
       "      <td>Angola</td>\n",
       "    </tr>\n",
       "  </tbody>\n",
       "</table>\n",
       "</div>"
      ],
      "text/plain": [
       "    country_name\n",
       "1   Afghanistan \n",
       "2       Albania \n",
       "3       Algeria \n",
       "4       Andorra \n",
       "5        Angola "
      ]
     },
     "execution_count": 21,
     "metadata": {},
     "output_type": "execute_result"
    }
   ],
   "source": [
    "countries_df.head()"
   ]
  },
  {
   "cell_type": "markdown",
   "id": "798928c8-343e-4c97-92b1-47c4ebd6bd72",
   "metadata": {},
   "source": [
    "## Filtering entities from the text"
   ]
  },
  {
   "cell_type": "code",
   "execution_count": 23,
   "id": "95b56ae3-00cc-476c-8f0d-63c4c7a798df",
   "metadata": {},
   "outputs": [],
   "source": [
    "# Function to filter out entities not of interest\n",
    "\n",
    "def filter_entity(ent_list, countries_df):\n",
    "    return [ent for ent in ent_list \n",
    "            if ent in list(countries_df['country_name'])]"
   ]
  },
  {
   "cell_type": "code",
   "execution_count": 58,
   "id": "3017933f-656a-4d87-a563-305ca7592d0f",
   "metadata": {},
   "outputs": [],
   "source": [
    "def filter_entity(ent_list, countries):\n",
    "    return[ent for ent in ent_list\n",
    "          if ent in list(countries['country_name'])]"
   ]
  },
  {
   "cell_type": "code",
   "execution_count": 60,
   "id": "3f80e89d-6312-4a98-a13e-929f0bf45bdc",
   "metadata": {},
   "outputs": [],
   "source": [
    "df_sentences['country_entities']=df_sentences['entities'].apply(lambda x: filter_entity(x,countries_df))"
   ]
  },
  {
   "cell_type": "code",
   "execution_count": 62,
   "id": "209e3036-7350-4d16-9578-1799ea921e25",
   "metadata": {
    "scrolled": true
   },
   "outputs": [
    {
     "data": {
      "text/html": [
       "<div>\n",
       "<style scoped>\n",
       "    .dataframe tbody tr th:only-of-type {\n",
       "        vertical-align: middle;\n",
       "    }\n",
       "\n",
       "    .dataframe tbody tr th {\n",
       "        vertical-align: top;\n",
       "    }\n",
       "\n",
       "    .dataframe thead th {\n",
       "        text-align: right;\n",
       "    }\n",
       "</style>\n",
       "<table border=\"1\" class=\"dataframe\">\n",
       "  <thead>\n",
       "    <tr style=\"text-align: right;\">\n",
       "      <th></th>\n",
       "      <th>sentence</th>\n",
       "      <th>entities</th>\n",
       "      <th>country_entities</th>\n",
       "    </tr>\n",
       "  </thead>\n",
       "  <tbody>\n",
       "    <tr>\n",
       "      <th>0</th>\n",
       "      <td>(Key, events, of, the, 20th, century, -, Wikip...</td>\n",
       "      <td>[the 20th century - WikipediaJump, Contribute,...</td>\n",
       "      <td>[]</td>\n",
       "    </tr>\n",
       "    <tr>\n",
       "      <th>1</th>\n",
       "      <td>(accountLog, inPersonal, toolsDonate, Create, ...</td>\n",
       "      <td>[20th, the 20th century]</td>\n",
       "      <td>[]</td>\n",
       "    </tr>\n",
       "    <tr>\n",
       "      <th>2</th>\n",
       "      <td>(World, War, I, (, 1914â€“1918)1.1.2Russian, R...</td>\n",
       "      <td>[World War I]</td>\n",
       "      <td>[]</td>\n",
       "    </tr>\n",
       "    <tr>\n",
       "      <th>3</th>\n",
       "      <td>(depression1.2.2The, rise, of, dictatorship1.3...</td>\n",
       "      <td>[World War II, Pacific1.3.7.1Background1.3.8Ja...</td>\n",
       "      <td>[]</td>\n",
       "    </tr>\n",
       "    <tr>\n",
       "      <th>4</th>\n",
       "      <td>(begins1.4The, post, -, war, world1.4.1The, en...</td>\n",
       "      <td>[Cold War, 1947â€“1991)1.4.3War, the Cold War1...</td>\n",
       "      <td>[]</td>\n",
       "    </tr>\n",
       "    <tr>\n",
       "      <th>5</th>\n",
       "      <td>(What, links, hereRelated, changesUpload, file...</td>\n",
       "      <td>[pageGet, URLDownload, Download, Wikipedia, en...</td>\n",
       "      <td>[]</td>\n",
       "    </tr>\n",
       "    <tr>\n",
       "      <th>6</th>\n",
       "      <td>(The, World, Wars, sparked, tension, between, ...</td>\n",
       "      <td>[the Cold War, the Space Race]</td>\n",
       "      <td>[]</td>\n",
       "    </tr>\n",
       "    <tr>\n",
       "      <th>7</th>\n",
       "      <td>(These, advancements, have, played, a, signifi...</td>\n",
       "      <td>[the 21st century, today]</td>\n",
       "      <td>[]</td>\n",
       "    </tr>\n",
       "    <tr>\n",
       "      <th>8</th>\n",
       "      <td>(Historic, events, in, the, 20th, century[edit...</td>\n",
       "      <td>[the 20th]</td>\n",
       "      <td>[]</td>\n",
       "    </tr>\n",
       "    <tr>\n",
       "      <th>9</th>\n",
       "      <td>(Edwardian, eraThe, new, beginning, of, the, 2...</td>\n",
       "      <td>[Edwardian, the 20th century]</td>\n",
       "      <td>[]</td>\n",
       "    </tr>\n",
       "  </tbody>\n",
       "</table>\n",
       "</div>"
      ],
      "text/plain": [
       "                                            sentence  \\\n",
       "0  (Key, events, of, the, 20th, century, -, Wikip...   \n",
       "1  (accountLog, inPersonal, toolsDonate, Create, ...   \n",
       "2  (World, War, I, (, 1914â€“1918)1.1.2Russian, R...   \n",
       "3  (depression1.2.2The, rise, of, dictatorship1.3...   \n",
       "4  (begins1.4The, post, -, war, world1.4.1The, en...   \n",
       "5  (What, links, hereRelated, changesUpload, file...   \n",
       "6  (The, World, Wars, sparked, tension, between, ...   \n",
       "7  (These, advancements, have, played, a, signifi...   \n",
       "8  (Historic, events, in, the, 20th, century[edit...   \n",
       "9  (Edwardian, eraThe, new, beginning, of, the, 2...   \n",
       "\n",
       "                                            entities country_entities  \n",
       "0  [the 20th century - WikipediaJump, Contribute,...               []  \n",
       "1                           [20th, the 20th century]               []  \n",
       "2                                      [World War I]               []  \n",
       "3  [World War II, Pacific1.3.7.1Background1.3.8Ja...               []  \n",
       "4  [Cold War, 1947â€“1991)1.4.3War, the Cold War1...               []  \n",
       "5  [pageGet, URLDownload, Download, Wikipedia, en...               []  \n",
       "6                     [the Cold War, the Space Race]               []  \n",
       "7                          [the 21st century, today]               []  \n",
       "8                                         [the 20th]               []  \n",
       "9                      [Edwardian, the 20th century]               []  "
      ]
     },
     "execution_count": 62,
     "metadata": {},
     "output_type": "execute_result"
    }
   ],
   "source": [
    "df_sentences.head(10)"
   ]
  },
  {
   "cell_type": "code",
   "execution_count": 64,
   "id": "0ae0bf40-1ade-4a6f-a620-c01af53f7c45",
   "metadata": {},
   "outputs": [
    {
     "data": {
      "text/plain": [
       "[]"
      ]
     },
     "execution_count": 64,
     "metadata": {},
     "output_type": "execute_result"
    }
   ],
   "source": [
    "# Check\n",
    "\n",
    "filter_entity(['Afghanistan'], countries_df)"
   ]
  },
  {
   "cell_type": "code",
   "execution_count": 66,
   "id": "93efd615-5585-45f3-93a2-5549313a0674",
   "metadata": {},
   "outputs": [],
   "source": [
    "df_sentences_filter=df_sentences[df_sentences['country_entities'].map(len) > 0]"
   ]
  },
  {
   "cell_type": "code",
   "execution_count": 68,
   "id": "c37d50b7-f3a2-4af8-8c42-678fa1fd9ba6",
   "metadata": {},
   "outputs": [
    {
     "data": {
      "text/html": [
       "<div>\n",
       "<style scoped>\n",
       "    .dataframe tbody tr th:only-of-type {\n",
       "        vertical-align: middle;\n",
       "    }\n",
       "\n",
       "    .dataframe tbody tr th {\n",
       "        vertical-align: top;\n",
       "    }\n",
       "\n",
       "    .dataframe thead th {\n",
       "        text-align: right;\n",
       "    }\n",
       "</style>\n",
       "<table border=\"1\" class=\"dataframe\">\n",
       "  <thead>\n",
       "    <tr style=\"text-align: right;\">\n",
       "      <th></th>\n",
       "      <th>sentence</th>\n",
       "      <th>entities</th>\n",
       "      <th>country_entities</th>\n",
       "    </tr>\n",
       "  </thead>\n",
       "  <tbody>\n",
       "  </tbody>\n",
       "</table>\n",
       "</div>"
      ],
      "text/plain": [
       "Empty DataFrame\n",
       "Columns: [sentence, entities, country_entities]\n",
       "Index: []"
      ]
     },
     "execution_count": 68,
     "metadata": {},
     "output_type": "execute_result"
    }
   ],
   "source": [
    "df_sentences_filter.head()"
   ]
  },
  {
   "cell_type": "code",
   "execution_count": 70,
   "id": "0ed4bbe6-d404-44c5-a901-fa46f914c535",
   "metadata": {},
   "outputs": [
    {
     "name": "stdout",
     "output_type": "stream",
     "text": [
      "Index(['country_name'], dtype='object')\n"
     ]
    }
   ],
   "source": [
    "print(countries_df.columns)\n"
   ]
  },
  {
   "cell_type": "code",
   "execution_count": null,
   "id": "380ee993-b6db-49c6-9123-b37d6a3c621a",
   "metadata": {},
   "outputs": [],
   "source": []
  }
 ],
 "metadata": {
  "kernelspec": {
   "display_name": "Python [conda env:venv_20th_century]",
   "language": "python",
   "name": "conda-env-venv_20th_century-py"
  },
  "language_info": {
   "codemirror_mode": {
    "name": "ipython",
    "version": 3
   },
   "file_extension": ".py",
   "mimetype": "text/x-python",
   "name": "python",
   "nbconvert_exporter": "python",
   "pygments_lexer": "ipython3",
   "version": "3.9.21"
  }
 },
 "nbformat": 4,
 "nbformat_minor": 5
}
