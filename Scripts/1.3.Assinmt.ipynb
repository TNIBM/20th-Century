{
 "cells": [
  {
   "cell_type": "code",
   "execution_count": 7,
   "id": "da0d5d66-d911-407a-b0c9-0dfc6e9fa049",
   "metadata": {},
   "outputs": [],
   "source": [
    "import pandas as pd"
   ]
  },
  {
   "cell_type": "code",
   "execution_count": 13,
   "id": "1de14b1b-7c33-42d6-8277-835fbedf5ba6",
   "metadata": {},
   "outputs": [],
   "source": [
    "data = pd.DataFrame({\"Name\": ['Whiteny', 'Swifty', 'Bulky','Magnito'],\n",
    "                     \"Race\": [\"Chocolate\", \"Ice cream\", \"Cookie\", \"Pudding\"],\n",
    "                     \"Calorie\": [120,110,95,100]})"
   ]
  },
  {
   "cell_type": "code",
   "execution_count": 15,
   "id": "b8e12860-8983-43c0-94af-8f37a116ea6d",
   "metadata": {},
   "outputs": [
    {
     "data": {
      "text/html": [
       "<div>\n",
       "<style scoped>\n",
       "    .dataframe tbody tr th:only-of-type {\n",
       "        vertical-align: middle;\n",
       "    }\n",
       "\n",
       "    .dataframe tbody tr th {\n",
       "        vertical-align: top;\n",
       "    }\n",
       "\n",
       "    .dataframe thead th {\n",
       "        text-align: right;\n",
       "    }\n",
       "</style>\n",
       "<table border=\"1\" class=\"dataframe\">\n",
       "  <thead>\n",
       "    <tr style=\"text-align: right;\">\n",
       "      <th></th>\n",
       "      <th>Name</th>\n",
       "      <th>Race</th>\n",
       "      <th>Calorie</th>\n",
       "    </tr>\n",
       "  </thead>\n",
       "  <tbody>\n",
       "    <tr>\n",
       "      <th>0</th>\n",
       "      <td>Whiteny</td>\n",
       "      <td>Chocolate</td>\n",
       "      <td>120</td>\n",
       "    </tr>\n",
       "    <tr>\n",
       "      <th>1</th>\n",
       "      <td>Swifty</td>\n",
       "      <td>Ice cream</td>\n",
       "      <td>110</td>\n",
       "    </tr>\n",
       "    <tr>\n",
       "      <th>2</th>\n",
       "      <td>Bulky</td>\n",
       "      <td>Cookie</td>\n",
       "      <td>95</td>\n",
       "    </tr>\n",
       "    <tr>\n",
       "      <th>3</th>\n",
       "      <td>Magnito</td>\n",
       "      <td>Pudding</td>\n",
       "      <td>100</td>\n",
       "    </tr>\n",
       "  </tbody>\n",
       "</table>\n",
       "</div>"
      ],
      "text/plain": [
       "      Name       Race  Calorie\n",
       "0  Whiteny  Chocolate      120\n",
       "1   Swifty  Ice cream      110\n",
       "2    Bulky     Cookie       95\n",
       "3  Magnito    Pudding      100"
      ]
     },
     "execution_count": 15,
     "metadata": {},
     "output_type": "execute_result"
    }
   ],
   "source": [
    "data"
   ]
  },
  {
   "cell_type": "code",
   "execution_count": 19,
   "id": "35d2a332-946e-407b-83a8-568eff70fe44",
   "metadata": {},
   "outputs": [
    {
     "data": {
      "text/plain": [
       "0    110\n",
       "1    100\n",
       "2     85\n",
       "3     90\n",
       "Name: Calorie, dtype: int64"
      ]
     },
     "execution_count": 19,
     "metadata": {},
     "output_type": "execute_result"
    }
   ],
   "source": [
    "# Using skimmilk reduces all the calories by 10 kcal. Therefore new formula\n",
    "subtract_2 = lambda x: x-10\n",
    "subtract_2(data['Calorie'])"
   ]
  },
  {
   "cell_type": "code",
   "execution_count": 27,
   "id": "0a2de383-5542-4100-951b-9ba1dc1f75ab",
   "metadata": {},
   "outputs": [
    {
     "data": {
      "text/html": [
       "<div>\n",
       "<style scoped>\n",
       "    .dataframe tbody tr th:only-of-type {\n",
       "        vertical-align: middle;\n",
       "    }\n",
       "\n",
       "    .dataframe tbody tr th {\n",
       "        vertical-align: top;\n",
       "    }\n",
       "\n",
       "    .dataframe thead th {\n",
       "        text-align: right;\n",
       "    }\n",
       "</style>\n",
       "<table border=\"1\" class=\"dataframe\">\n",
       "  <thead>\n",
       "    <tr style=\"text-align: right;\">\n",
       "      <th></th>\n",
       "      <th>Name</th>\n",
       "      <th>Race</th>\n",
       "      <th>Calorie</th>\n",
       "      <th>Calorie2</th>\n",
       "    </tr>\n",
       "  </thead>\n",
       "  <tbody>\n",
       "    <tr>\n",
       "      <th>0</th>\n",
       "      <td>Whiteny</td>\n",
       "      <td>Chocolate</td>\n",
       "      <td>120</td>\n",
       "      <td>110</td>\n",
       "    </tr>\n",
       "    <tr>\n",
       "      <th>1</th>\n",
       "      <td>Swifty</td>\n",
       "      <td>Ice cream</td>\n",
       "      <td>110</td>\n",
       "      <td>100</td>\n",
       "    </tr>\n",
       "    <tr>\n",
       "      <th>2</th>\n",
       "      <td>Bulky</td>\n",
       "      <td>Cookie</td>\n",
       "      <td>95</td>\n",
       "      <td>85</td>\n",
       "    </tr>\n",
       "    <tr>\n",
       "      <th>3</th>\n",
       "      <td>Magnito</td>\n",
       "      <td>Pudding</td>\n",
       "      <td>100</td>\n",
       "      <td>90</td>\n",
       "    </tr>\n",
       "  </tbody>\n",
       "</table>\n",
       "</div>"
      ],
      "text/plain": [
       "      Name       Race  Calorie  Calorie2\n",
       "0  Whiteny  Chocolate      120       110\n",
       "1   Swifty  Ice cream      110       100\n",
       "2    Bulky     Cookie       95        85\n",
       "3  Magnito    Pudding      100        90"
      ]
     },
     "execution_count": 27,
     "metadata": {},
     "output_type": "execute_result"
    }
   ],
   "source": [
    "data['Calorie2'] = subtract_2(data['Calorie'])\n",
    "data"
   ]
  },
  {
   "cell_type": "code",
   "execution_count": 37,
   "id": "d59e4dae-c992-44a3-8ebf-46bf86e4f8d7",
   "metadata": {},
   "outputs": [],
   "source": [
    "data['Calorie_label_2'] = data['Calorie2'].apply(\n",
    "lambda x:  'High Calorie' if x > 100 else ('middle-calorie' if x >= 90 else 'low-calorie'))"
   ]
  },
  {
   "cell_type": "code",
   "execution_count": 39,
   "id": "3f9be099-8f80-43c4-be3f-ed9c439781e2",
   "metadata": {},
   "outputs": [
    {
     "data": {
      "text/html": [
       "<div>\n",
       "<style scoped>\n",
       "    .dataframe tbody tr th:only-of-type {\n",
       "        vertical-align: middle;\n",
       "    }\n",
       "\n",
       "    .dataframe tbody tr th {\n",
       "        vertical-align: top;\n",
       "    }\n",
       "\n",
       "    .dataframe thead th {\n",
       "        text-align: right;\n",
       "    }\n",
       "</style>\n",
       "<table border=\"1\" class=\"dataframe\">\n",
       "  <thead>\n",
       "    <tr style=\"text-align: right;\">\n",
       "      <th></th>\n",
       "      <th>Name</th>\n",
       "      <th>Race</th>\n",
       "      <th>Calorie</th>\n",
       "      <th>Calorie2</th>\n",
       "      <th>Calorie_label_2</th>\n",
       "    </tr>\n",
       "  </thead>\n",
       "  <tbody>\n",
       "    <tr>\n",
       "      <th>0</th>\n",
       "      <td>Whiteny</td>\n",
       "      <td>Chocolate</td>\n",
       "      <td>120</td>\n",
       "      <td>110</td>\n",
       "      <td>High Calorie</td>\n",
       "    </tr>\n",
       "    <tr>\n",
       "      <th>1</th>\n",
       "      <td>Swifty</td>\n",
       "      <td>Ice cream</td>\n",
       "      <td>110</td>\n",
       "      <td>100</td>\n",
       "      <td>middle-calorie</td>\n",
       "    </tr>\n",
       "    <tr>\n",
       "      <th>2</th>\n",
       "      <td>Bulky</td>\n",
       "      <td>Cookie</td>\n",
       "      <td>95</td>\n",
       "      <td>85</td>\n",
       "      <td>low-calorie</td>\n",
       "    </tr>\n",
       "    <tr>\n",
       "      <th>3</th>\n",
       "      <td>Magnito</td>\n",
       "      <td>Pudding</td>\n",
       "      <td>100</td>\n",
       "      <td>90</td>\n",
       "      <td>middle-calorie</td>\n",
       "    </tr>\n",
       "  </tbody>\n",
       "</table>\n",
       "</div>"
      ],
      "text/plain": [
       "      Name       Race  Calorie  Calorie2 Calorie_label_2\n",
       "0  Whiteny  Chocolate      120       110    High Calorie\n",
       "1   Swifty  Ice cream      110       100  middle-calorie\n",
       "2    Bulky     Cookie       95        85     low-calorie\n",
       "3  Magnito    Pudding      100        90  middle-calorie"
      ]
     },
     "execution_count": 39,
     "metadata": {},
     "output_type": "execute_result"
    }
   ],
   "source": [
    "data\n"
   ]
  },
  {
   "cell_type": "code",
   "execution_count": null,
   "id": "e63d4acf-4693-4afe-94a7-d7e67824cde1",
   "metadata": {},
   "outputs": [],
   "source": []
  }
 ],
 "metadata": {
  "kernelspec": {
   "display_name": "Python [conda env:venv_20th_century]",
   "language": "python",
   "name": "conda-env-venv_20th_century-py"
  },
  "language_info": {
   "codemirror_mode": {
    "name": "ipython",
    "version": 3
   },
   "file_extension": ".py",
   "mimetype": "text/x-python",
   "name": "python",
   "nbconvert_exporter": "python",
   "pygments_lexer": "ipython3",
   "version": "3.9.21"
  }
 },
 "nbformat": 4,
 "nbformat_minor": 5
}
