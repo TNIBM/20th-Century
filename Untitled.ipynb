{
 "cells": [
  {
   "cell_type": "code",
   "execution_count": 23,
   "id": "0e4b6ca7-62ca-4333-98c7-a1eb24ae03a5",
   "metadata": {},
   "outputs": [
    {
     "name": "stdout",
     "output_type": "stream",
     "text": [
      "Final country list: ['Afghanistan', 'Albania– Republic of Albania', \"Algeria– People's Democratic Republic of Algeria\", 'Andorra– Principality of Andorra', 'Angola– Republic of Angola', 'Antigua and Barbuda', 'Argentina– Argentine Republic[i]', 'Armenia– Republic of Armenia', 'Australia– Commonwealth of Australia', 'Austria– Republic of Austria', 'Azerbaijan– Republic of Azerbaijan[k]', 'Bahamas, The– Commonwealth of The Bahamas[14]', 'Bahrain– Kingdom of Bahrain', \"Bangladesh– People's Republic of Bangladesh\", 'Barbados', 'Belarus– Republic of Belarus', 'Belgium– Kingdom of Belgium', 'Belize', 'Benin– Republic of Benin', 'Bhutan– Kingdom of Bhutan', 'Bolivia– Plurinational State of Bolivia', 'Bosnia and Herzegovina', 'Botswana– Republic of Botswana', 'Brazil– Federative Republic of Brazil', 'Brunei– Brunei Darussalam', 'Bulgaria– Republic of Bulgaria', 'Burkina Faso', 'Burundi– Republic of Burundi', 'Cambodia– Kingdom of Cambodia', 'Cameroon– Republic of Cameroon', 'Canada[l]', 'Cape Verde– Republic of Cabo Verde[m]', 'Central African Republic', 'Chad– Republic of Chad', 'Chile– Republic of Chile', \"China– People's Republic of China[o]\", 'Colombia– Republic of Colombia', 'Comoros– Union of the Comoros', 'Congo, Democratic Republic of the[s]', 'Congo, Republic of the[t]', 'Costa Rica– Republic of Costa Rica', 'Croatia– Republic of Croatia', 'Cuba– Republic of Cuba', 'Cyprus– Republic of Cyprus', 'Czech Republic[u]', 'Denmark– Kingdom of Denmark', 'Djibouti– Republic of Djibouti', 'Dominica– Commonwealth of Dominica', 'Dominican Republic', 'East Timor– Democratic Republic of Timor-Leste[w]', 'Ecuador– Republic of Ecuador', 'Egypt– Arab Republic of Egypt', 'El Salvador– Republic of El Salvador', 'Equatorial Guinea– Republic of Equatorial Guinea', 'Eritrea– State of Eritrea', 'Estonia– Republic of Estonia', 'Eswatini– Kingdom of Eswatini[x]', 'Ethiopia– Federal Democratic Republic of Ethiopia', 'Fiji– Republic of Fiji', 'Finland– Republic of Finland', 'France– French Republic', 'Gabon– Gabonese Republic', 'Gambia, The– Republic of The Gambia[24]', 'Georgia', 'Germany– Federal Republic of Germany', 'Ghana– Republic of Ghana', 'Greece– Hellenic Republic', 'Grenada', 'Guatemala– Republic of Guatemala', 'Guinea– Republic of Guinea[aa]', 'Guinea-Bissau– Republic of Guinea-Bissau', 'Guyana– Co-operative Republic of Guyana', 'Haiti– Republic of Haiti', 'Honduras– Republic of Honduras', 'Hungary', 'Iceland[ab]', 'India– Republic of India', 'Indonesia– Republic of Indonesia', 'Iran– Islamic Republic of Iran', 'Iraq– Republic of Iraq', 'Ireland[ac]', 'Israel– State of Israel', 'Italy– Italian Republic', \"Ivory Coast– Republic of Côte d'Ivoire[ad]\", 'Jamaica', 'Japan', 'Jordan– Hashemite Kingdom of Jordan', 'Kazakhstan– Republic of Kazakhstan', 'Kenya– Republic of Kenya', 'Kiribati– Republic of Kiribati', 'Kuwait– State of Kuwait', 'Kyrgyzstan– Kyrgyz Republic', \"Laos– Lao People's Democratic Republic\", 'Latvia– Republic of Latvia', 'Lebanon– Republic of Lebanon', 'Lesotho– Kingdom of Lesotho', 'Liberia– Republic of Liberia', 'Libya– State of Libya', 'Liechtenstein– Principality of Liechtenstein', 'Lithuania– Republic of Lithuania', 'Luxembourg– Grand Duchy of Luxembourg', 'Madagascar– Republic of Madagascar', 'Malawi– Republic of Malawi', 'Malaysia', 'Maldives– Republic of Maldives', 'Mali– Republic of Mali', 'Malta– Republic of Malta', 'Marshall Islands– Republic of the Marshall Islands', 'Mauritania– Islamic Republic of Mauritania', 'Mauritius– Republic of Mauritius', 'Mexico– United Mexican States', 'Micronesia, Federated States of', 'Moldova– Republic of Moldova', 'Monaco– Principality of Monaco', 'Mongolia', 'Montenegro', 'Morocco– Kingdom of Morocco', 'Mozambique– Republic of Mozambique', 'Myanmar– Republic of the Union of Myanmar[ae]', 'Namibia– Republic of Namibia', 'Nauru– Republic of Nauru', 'Nepal– Federal Democratic Republic of Nepal', 'Netherlands– Kingdom of the Netherlands', 'New Zealand', 'Nicaragua– Republic of Nicaragua', 'Niger– Republic of the Niger', 'Nigeria– Federal Republic of Nigeria', \"North Korea– Democratic People's Republic of Korea\", 'North Macedonia– Republic of North Macedonia[ag]', 'Norway– Kingdom of Norway', 'Oman– Sultanate of Oman', 'Pakistan– Islamic Republic of Pakistan', 'Palau– Republic of Palau', 'Palestine– State of Palestine', 'Panama– Republic of Panama', 'Papua New Guinea– Independent State of Papua New Guinea', 'Paraguay– Republic of Paraguay', 'Peru– Republic of Peru', 'Philippines– Republic of the Philippines', 'Poland– Republic of Poland', 'Portugal– Portuguese Republic', 'Qatar– State of Qatar', 'Romania', 'Russia– Russian Federation', 'Rwanda– Republic of Rwanda', 'Saint Kitts and Nevis– Federation of Saint Christopher and Nevis', 'Saint Lucia', 'Saint Vincent and the Grenadines', 'Samoa– Independent State of Samoa', 'San Marino– Republic of San Marino', 'São Tomé and Príncipe– Democratic Republic of São Tomé and Príncipe', 'Saudi Arabia– Kingdom of Saudi Arabia', 'Senegal– Republic of Senegal', 'Serbia– Republic of Serbia', 'Seychelles– Republic of Seychelles', 'Sierra Leone– Republic of Sierra Leone', 'Singapore– Republic of Singapore', 'Slovakia– Slovak Republic', 'Slovenia– Republic of Slovenia', 'Solomon Islands', 'Somalia– Federal Republic of Somalia', 'South Africa– Republic of South Africa', 'South Korea– Republic of Korea', 'South Sudan– Republic of South Sudan', 'Spain– Kingdom of Spain', 'Sri Lanka– Democratic Socialist Republic of Sri Lanka[ai]', 'Sudan– Republic of the Sudan', 'Suriname– Republic of Suriname', 'Sweden– Kingdom of Sweden', 'Switzerland– Swiss Confederation', 'Syria– Syrian Arab Republic', 'Tajikistan– Republic of Tajikistan', 'Tanzania– United Republic of Tanzania', 'Thailand– Kingdom of Thailand', 'Togo– Togolese Republic', 'Tonga– Kingdom of Tonga', 'Trinidad and Tobago– Republic of Trinidad and Tobago', 'Tunisia– Republic of Tunisia', 'Turkey– Republic of Türkiye[aj]', 'Turkmenistan', 'Tuvalu', 'Uganda– Republic of Uganda', 'Ukraine', 'United Arab Emirates', 'United Kingdom– United Kingdom of Great Britain and Northern Ireland', 'United States– United States of America', 'Uruguay– Oriental Republic of Uruguay', 'Uzbekistan– Republic of Uzbekistan', 'Vanuatu– Republic of Vanuatu', 'Vatican City– Vatican City State', 'Venezuela– Bolivarian Republic of Venezuela', 'Vietnam– Socialist Republic of Vietnam', 'Yemen– Republic of Yemen', 'Zambia– Republic of Zambia', 'Zimbabwe– Republic of Zimbabwe']\n"
     ]
    }
   ],
   "source": [
    "import requests\n",
    "from bs4 import BeautifulSoup\n",
    "\n",
    "# URL of the desktop Wikipedia page\n",
    "url = \"https://en.wikipedia.org/wiki/List_of_sovereign_states\"\n",
    "\n",
    "# Fetch the webpage content\n",
    "response = requests.get(url)\n",
    "\n",
    "# Check if the request was successful\n",
    "if response.status_code != 200:\n",
    "    print(\"Failed to retrieve webpage:\", response.status_code)\n",
    "    exit()\n",
    "\n",
    "soup = BeautifulSoup(response.text, \"html.parser\")\n",
    "\n",
    "# Find the table that contains the list of countries\n",
    "table = soup.find(\"table\", class_=\"wikitable\")\n",
    "\n",
    "# Debug: Check if the table is found\n",
    "if not table:\n",
    "    print(\"Could not find the country table!\")\n",
    "    exit()\n",
    "\n",
    "# Extract country names from the first column of the table\n",
    "countries = []\n",
    "for row in table.find_all(\"tr\")[1:]:  # Skip header row\n",
    "    cells = row.find_all(\"td\")\n",
    "    if cells:\n",
    "        country_name = cells[0].get_text(strip=True)\n",
    "        countries.append(country_name)\n",
    "\n",
    "# Print the extracted list of countries\n",
    "print(\"Final country list:\", countries)\n"
   ]
  },
  {
   "cell_type": "code",
   "execution_count": 25,
   "id": "9c3432e4-859b-45eb-a8f8-07855d840f12",
   "metadata": {},
   "outputs": [
    {
     "name": "stdout",
     "output_type": "stream",
     "text": [
      "['Afghanistan', 'Albania', 'Algeria', 'Andorra', 'Angola', 'Antigua and Barbuda', 'Argentina', 'Armenia', 'Australia', 'Austria', 'Azerbaijan', 'Bahamas, The', 'Bahrain', 'Bangladesh', 'Barbados', 'Belarus', 'Belgium', 'Belize', 'Benin', 'Bhutan', 'Bolivia', 'Bosnia and Herzegovina', 'Botswana', 'Brazil', 'Brunei', 'Bulgaria']\n"
     ]
    }
   ],
   "source": [
    "import re\n",
    "\n",
    "# Original extracted list\n",
    "country_list = [\n",
    "    'Afghanistan', 'Albania– Republic of Albania', \"Algeria– People's Democratic Republic of Algeria\",\n",
    "    'Andorra– Principality of Andorra', 'Angola– Republic of Angola', 'Antigua and Barbuda',\n",
    "    'Argentina– Argentine Republic[i]', 'Armenia– Republic of Armenia', 'Australia– Commonwealth of Australia',\n",
    "    'Austria– Republic of Austria', 'Azerbaijan– Republic of Azerbaijan[k]', \n",
    "    'Bahamas, The– Commonwealth of The Bahamas[14]', 'Bahrain– Kingdom of Bahrain',\n",
    "    \"Bangladesh– People's Republic of Bangladesh\", 'Barbados', 'Belarus– Republic of Belarus',\n",
    "    'Belgium– Kingdom of Belgium', 'Belize', 'Benin– Republic of Benin', 'Bhutan– Kingdom of Bhutan',\n",
    "    'Bolivia– Plurinational State of Bolivia', 'Bosnia and Herzegovina', 'Botswana– Republic of Botswana',\n",
    "    'Brazil– Federative Republic of Brazil', 'Brunei– Brunei Darussalam', 'Bulgaria– Republic of Bulgaria'\n",
    "]\n",
    "\n",
    "# Function to clean country names\n",
    "def clean_country_names(countries):\n",
    "    cleaned_countries = []\n",
    "    for country in countries:\n",
    "        country = re.sub(r'\\[.*?\\]', '', country)  # Remove text inside square brackets\n",
    "        country = country.split('–')[0].strip()  # Keep only the part before \"–\"\n",
    "        cleaned_countries.append(country)\n",
    "    return cleaned_countries\n",
    "\n",
    "# Get the cleaned country list\n",
    "cleaned_country_list = clean_country_names(country_list)\n",
    "\n",
    "# Print the cleaned list\n",
    "print(cleaned_country_list)\n"
   ]
  },
  {
   "cell_type": "code",
   "execution_count": 27,
   "id": "4a8280dd-6d3d-4fb1-b30d-8d9d7ba1b273",
   "metadata": {},
   "outputs": [
    {
     "name": "stdout",
     "output_type": "stream",
     "text": [
      "              Country Name\n",
      "0              Afghanistan\n",
      "1                  Albania\n",
      "2                  Algeria\n",
      "3                  Andorra\n",
      "4                   Angola\n",
      "5      Antigua and Barbuda\n",
      "6                Argentina\n",
      "7                  Armenia\n",
      "8                Australia\n",
      "9                  Austria\n",
      "10              Azerbaijan\n",
      "11            Bahamas, The\n",
      "12                 Bahrain\n",
      "13              Bangladesh\n",
      "14                Barbados\n",
      "15                 Belarus\n",
      "16                 Belgium\n",
      "17                  Belize\n",
      "18                   Benin\n",
      "19                  Bhutan\n",
      "20                 Bolivia\n",
      "21  Bosnia and Herzegovina\n",
      "22                Botswana\n",
      "23                  Brazil\n",
      "24                  Brunei\n",
      "25                Bulgaria\n"
     ]
    }
   ],
   "source": [
    "import re\n",
    "import pandas as pd  # Import Pandas for DataFrame\n",
    "\n",
    "# Original extracted list\n",
    "country_list = [\n",
    "    'Afghanistan', 'Albania– Republic of Albania', \"Algeria– People's Democratic Republic of Algeria\",\n",
    "    'Andorra– Principality of Andorra', 'Angola– Republic of Angola', 'Antigua and Barbuda',\n",
    "    'Argentina– Argentine Republic[i]', 'Armenia– Republic of Armenia', 'Australia– Commonwealth of Australia',\n",
    "    'Austria– Republic of Austria', 'Azerbaijan– Republic of Azerbaijan[k]', \n",
    "    'Bahamas, The– Commonwealth of The Bahamas[14]', 'Bahrain– Kingdom of Bahrain',\n",
    "    \"Bangladesh– People's Republic of Bangladesh\", 'Barbados', 'Belarus– Republic of Belarus',\n",
    "    'Belgium– Kingdom of Belgium', 'Belize', 'Benin– Republic of Benin', 'Bhutan– Kingdom of Bhutan',\n",
    "    'Bolivia– Plurinational State of Bolivia', 'Bosnia and Herzegovina', 'Botswana– Republic of Botswana',\n",
    "    'Brazil– Federative Republic of Brazil', 'Brunei– Brunei Darussalam', 'Bulgaria– Republic of Bulgaria'\n",
    "]\n",
    "\n",
    "# Function to clean country names\n",
    "def clean_country_names(countries):\n",
    "    cleaned_countries = []\n",
    "    for country in countries:\n",
    "        country = re.sub(r'\\[.*?\\]', '', country)  # Remove text inside square brackets\n",
    "        country = country.split('–')[0].strip()  # Keep only the part before \"–\"\n",
    "        cleaned_countries.append(country)\n",
    "    return cleaned_countries\n",
    "\n",
    "# Get the cleaned country list\n",
    "cleaned_country_list = clean_country_names(country_list)\n",
    "\n",
    "# Create a DataFrame\n",
    "df = pd.DataFrame(cleaned_country_list, columns=[\"Country Name\"])\n",
    "\n",
    "# Display as a table\n",
    "print(df)  # Prints table in terminal\n"
   ]
  },
  {
   "cell_type": "code",
   "execution_count": 40,
   "id": "6ec11fbd-aeca-4804-b4b1-bd90b560e5cf",
   "metadata": {},
   "outputs": [
    {
     "name": "stdout",
     "output_type": "stream",
     "text": [
      "<title>List of sovereign states - Wikipedia</title>\n"
     ]
    }
   ],
   "source": [
    "print(soup.title)\n",
    "\n",
    "text = soup.get_text()\n",
    "\n",
    "text = text.encode ('utf-8')\n",
    "\n",
    "with open('listcountries.csv', 'wb') as f:\n",
    "       f.write(text)"
   ]
  },
  {
   "cell_type": "code",
   "execution_count": 42,
   "id": "4e79f8b9-0afb-405b-8b61-09ed64cabe77",
   "metadata": {},
   "outputs": [
    {
     "name": "stdout",
     "output_type": "stream",
     "text": [
      "<title>Countries List</title>\n"
     ]
    }
   ],
   "source": [
    "from bs4 import BeautifulSoup\n",
    "\n",
    "# Example HTML content (assuming you have the webpage content)\n",
    "html_content = \"\"\"<html><head><title>List of sovereign states - Wikipedia</title></head><body></body></html>\"\"\"\n",
    "\n",
    "# Parse the HTML\n",
    "soup = BeautifulSoup(html_content, 'html.parser')\n",
    "\n",
    "# Modify the title\n",
    "soup.title.string = \"Countries List\"\n",
    "\n",
    "# Print modified title\n",
    "print(soup.title)  # Output: <title>Countries List</title>\n",
    "\n",
    "# Extract text and save it as CSV\n",
    "text = soup.get_text()\n",
    "text = text.encode('utf-8')\n",
    "\n",
    "with open('listcountries.csv', 'wb') as f:\n",
    "    f.write(text)\n"
   ]
  },
  {
   "cell_type": "code",
   "execution_count": 44,
   "id": "d32372fa-8f99-4f82-91ed-654f1e2ce29a",
   "metadata": {},
   "outputs": [
    {
     "name": "stdout",
     "output_type": "stream",
     "text": [
      "File saved at: C:\\Users\\TN1\\Desktop\\career foundry\\Visualization w Python\\20th_century\n"
     ]
    }
   ],
   "source": [
    "import os\n",
    "print(\"File saved at:\", os.getcwd())\n"
   ]
  },
  {
   "cell_type": "code",
   "execution_count": 46,
   "id": "ccd6554e-2471-4e09-ad4e-9a4be1e40e90",
   "metadata": {},
   "outputs": [
    {
     "name": "stdout",
     "output_type": "stream",
     "text": [
      "File saved at: C:\\Users\\TN1\\Desktop\\career foundry\\Visualization w Python\\20th_century\\listcountries.csv\n"
     ]
    }
   ],
   "source": [
    "import os\n",
    "print(\"File saved at:\", os.path.abspath(\"listcountries.csv\"))\n"
   ]
  },
  {
   "cell_type": "code",
   "execution_count": 49,
   "id": "27257ab4-71fe-4dc6-8915-79219f1bc694",
   "metadata": {},
   "outputs": [
    {
     "name": "stdout",
     "output_type": "stream",
     "text": [
      "File saved successfully at: listcountries.csv\n"
     ]
    }
   ],
   "source": [
    "import requests\n",
    "from bs4 import BeautifulSoup\n",
    "import pandas as pd\n",
    "\n",
    "# Get the webpage content\n",
    "url = \"https://en.wikipedia.org/wiki/List_of_sovereign_states\"\n",
    "response = requests.get(url)\n",
    "soup = BeautifulSoup(response.text, \"html.parser\")\n",
    "\n",
    "# Find the table containing country names\n",
    "table = soup.find(\"table\", {\"class\": \"wikitable\"})  # Wikipedia tables have class \"wikitable\"\n",
    "\n",
    "# Extract country names\n",
    "countries = []\n",
    "for row in table.find_all(\"tr\")[1:]:  # Skip header row\n",
    "    cells = row.find_all(\"td\")\n",
    "    if cells:\n",
    "        country_name = cells[0].text.strip()  # First column has country name\n",
    "        countries.append([country_name])\n",
    "\n",
    "# Save to CSV\n",
    "df = pd.DataFrame(countries, columns=[\"Country\"])\n",
    "df.to_csv(\"listcountries.csv\", index=False, encoding=\"utf-8\")\n",
    "\n",
    "print(\"File saved successfully at:\", \"listcountries.csv\")\n"
   ]
  },
  {
   "cell_type": "code",
   "execution_count": null,
   "id": "d4f05c86-bd1a-4f83-9e6b-d82406db2a65",
   "metadata": {},
   "outputs": [],
   "source": []
  }
 ],
 "metadata": {
  "kernelspec": {
   "display_name": "Python [conda env:base] *",
   "language": "python",
   "name": "conda-base-py"
  },
  "language_info": {
   "codemirror_mode": {
    "name": "ipython",
    "version": 3
   },
   "file_extension": ".py",
   "mimetype": "text/x-python",
   "name": "python",
   "nbconvert_exporter": "python",
   "pygments_lexer": "ipython3",
   "version": "3.12.3"
  }
 },
 "nbformat": 4,
 "nbformat_minor": 5
}
