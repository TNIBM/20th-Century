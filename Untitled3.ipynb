{
 "cells": [
  {
   "cell_type": "code",
   "execution_count": 1,
   "id": "af41b5c9-1955-44a6-a9dd-b0dc3f8dd92d",
   "metadata": {},
   "outputs": [],
   "source": [
    "import sys"
   ]
  },
  {
   "cell_type": "code",
   "execution_count": 3,
   "id": "d5173bd9-0fe1-41da-992d-f71f3f57135a",
   "metadata": {},
   "outputs": [
    {
     "name": "stdout",
     "output_type": "stream",
     "text": [
      "['C:\\\\Users\\\\TN1\\\\Desktop\\\\career foundry\\\\Visualization w Python\\\\20th_century', 'C:\\\\Users\\\\TN1\\\\anaconda3\\\\python312.zip', 'C:\\\\Users\\\\TN1\\\\anaconda3\\\\DLLs', 'C:\\\\Users\\\\TN1\\\\anaconda3\\\\Lib', 'C:\\\\Users\\\\TN1\\\\anaconda3', '', 'C:\\\\Users\\\\TN1\\\\anaconda3\\\\Lib\\\\site-packages', 'C:\\\\Users\\\\TN1\\\\anaconda3\\\\Lib\\\\site-packages\\\\win32', 'C:\\\\Users\\\\TN1\\\\anaconda3\\\\Lib\\\\site-packages\\\\win32\\\\lib', 'C:\\\\Users\\\\TN1\\\\anaconda3\\\\Lib\\\\site-packages\\\\Pythonwin', 'C:\\\\Users\\\\TN1\\\\anaconda3\\\\Lib\\\\site-packages\\\\setuptools\\\\_vendor']\n"
     ]
    }
   ],
   "source": [
    "print (sys.path)"
   ]
  },
  {
   "cell_type": "code",
   "execution_count": null,
   "id": "84578de3-129e-4fd0-b7a0-5ad692dd71d2",
   "metadata": {},
   "outputs": [],
   "source": []
  }
 ],
 "metadata": {
  "kernelspec": {
   "display_name": "Python [conda env:base] *",
   "language": "python",
   "name": "conda-base-py"
  },
  "language_info": {
   "codemirror_mode": {
    "name": "ipython",
    "version": 3
   },
   "file_extension": ".py",
   "mimetype": "text/x-python",
   "name": "python",
   "nbconvert_exporter": "python",
   "pygments_lexer": "ipython3",
   "version": "3.12.3"
  }
 },
 "nbformat": 4,
 "nbformat_minor": 5
}
