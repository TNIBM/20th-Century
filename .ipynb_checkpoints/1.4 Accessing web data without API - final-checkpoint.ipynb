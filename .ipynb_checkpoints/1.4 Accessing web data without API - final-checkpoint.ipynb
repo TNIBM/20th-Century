{
 "cells": [
  {
   "cell_type": "markdown",
   "id": "0d38c3c4-ffbd-4a90-842d-1a3b3eb20e17",
   "metadata": {},
   "source": [
    "# 1.4 Accessing web data without API"
   ]
  },
  {
   "cell_type": "code",
   "execution_count": 26,
   "id": "591dc5ff-2201-44fd-92df-07b6f41627fd",
   "metadata": {},
   "outputs": [
    {
     "ename": "ModuleNotFoundError",
     "evalue": "No module named 'selenium'",
     "output_type": "error",
     "traceback": [
      "\u001b[1;31m---------------------------------------------------------------------------\u001b[0m",
      "\u001b[1;31mModuleNotFoundError\u001b[0m                       Traceback (most recent call last)",
      "Cell \u001b[1;32mIn[26], line 5\u001b[0m\n\u001b[0;32m      3\u001b[0m \u001b[38;5;28;01mimport\u001b[39;00m \u001b[38;5;21;01mpandas\u001b[39;00m \u001b[38;5;28;01mas\u001b[39;00m \u001b[38;5;21;01mpd\u001b[39;00m\n\u001b[0;32m      4\u001b[0m \u001b[38;5;28;01mimport\u001b[39;00m \u001b[38;5;21;01mtime\u001b[39;00m\n\u001b[1;32m----> 5\u001b[0m \u001b[38;5;28;01mfrom\u001b[39;00m \u001b[38;5;21;01mselenium\u001b[39;00m \u001b[38;5;28;01mimport\u001b[39;00m webdriver\n\u001b[0;32m      6\u001b[0m \u001b[38;5;28;01mfrom\u001b[39;00m \u001b[38;5;21;01mwebdriver_manager\u001b[39;00m\u001b[38;5;21;01m.\u001b[39;00m\u001b[38;5;21;01mchrome\u001b[39;00m \u001b[38;5;28;01mimport\u001b[39;00m ChromeDriverManager\n\u001b[0;32m      7\u001b[0m \u001b[38;5;28;01mfrom\u001b[39;00m \u001b[38;5;21;01mselenium\u001b[39;00m\u001b[38;5;21;01m.\u001b[39;00m\u001b[38;5;21;01mwebdriver\u001b[39;00m\u001b[38;5;21;01m.\u001b[39;00m\u001b[38;5;21;01mcommon\u001b[39;00m\u001b[38;5;21;01m.\u001b[39;00m\u001b[38;5;21;01mby\u001b[39;00m \u001b[38;5;28;01mimport\u001b[39;00m By\n",
      "\u001b[1;31mModuleNotFoundError\u001b[0m: No module named 'selenium'"
     ]
    }
   ],
   "source": [
    "# Import libraries\n",
    "\n",
    "import pandas as pd\n",
    "import time\n",
    "from selenium import webdriver\n",
    "from webdriver_manager.chrome import ChromeDriverManager\n",
    "from selenium.webdriver.common.by import By\n",
    "from selenium.webdriver.chrome.service import Service\n",
    "from selenium.webdriver.chrome.options import Options\n",
    "import matplotlib.pyplot as plt\n",
    "import os\n",
    "import logging\n",
    "import requests\n",
    "import bs4"
   ]
  },
  {
   "cell_type": "code",
   "execution_count": null,
   "id": "6a51b71b-6fd2-4699-a901-54a57e83998d",
   "metadata": {},
   "outputs": [],
   "source": [
    "## Setup chrome options\n",
    "\n",
    "chrome_options = Options()\n",
    "chrome_options.add_argument(\"--headless\") # Ensure GUI is off\n",
    "chrome_options.add_argument(\"--no-sandbox\")"
   ]
  },
  {
   "cell_type": "code",
   "execution_count": null,
   "id": "01938f92-bc78-4720-9366-80e3cd49a22a",
   "metadata": {},
   "outputs": [],
   "source": [
    "# Install Chrome driver manager\n",
    "\n",
    "service = Service(executable_path=ChromeDriverManager().install())"
   ]
  },
  {
   "cell_type": "code",
   "execution_count": null,
   "id": "89e2cde1-c238-4321-abc6-6056c67dbe43",
   "metadata": {},
   "outputs": [],
   "source": [
    "driver = webdriver.Chrome(executable_path=r'C:\\Program Files\\Google\\Chrome\\chromedriver.exe')"
   ]
  },
  {
   "cell_type": "markdown",
   "id": "86668e58-988a-4da8-9b6d-7786e0b7c3e7",
   "metadata": {},
   "source": [
    "## Scraping Alice Wiki page using selenium"
   ]
  },
  {
   "cell_type": "code",
   "execution_count": null,
   "id": "c866f91d-6b66-4e7f-8036-730df4682cef",
   "metadata": {},
   "outputs": [],
   "source": [
    "# Get the page's contents\n",
    "\n",
    "page_url = \"https://en.wikipedia.org/wiki/Alice%27s_Adventures_in_Wonderland\"\n",
    "driver.get(page_url)"
   ]
  },
  {
   "cell_type": "code",
   "execution_count": null,
   "id": "de356d31-b40b-43ab-98aa-7fc68f019013",
   "metadata": {},
   "outputs": [],
   "source": [
    "# Click on Accept cookies\n",
    "\n",
    "# time.sleep(3)\n",
    "# driver.find_element(By.XPATH, '//div[text()=\"ACCEPT\"]').click()"
   ]
  },
  {
   "cell_type": "code",
   "execution_count": null,
   "id": "c5e0975c-6542-4d60-8124-0e5312af4dcd",
   "metadata": {},
   "outputs": [],
   "source": [
    "# Create a collection of the characters\n",
    "\n",
    "character_elems = driver.find_elements(by = By.CLASS_NAME, value = 'div-col')"
   ]
  },
  {
   "cell_type": "code",
   "execution_count": null,
   "id": "6dbc3053-1aa8-48f6-b39f-6752117d5dee",
   "metadata": {},
   "outputs": [],
   "source": [
    "character_elems[0].text"
   ]
  },
  {
   "cell_type": "code",
   "execution_count": null,
   "id": "eff4c5eb-ffe3-4965-a2a9-37996b337d5f",
   "metadata": {},
   "outputs": [],
   "source": [
    "list_char = character_elems[0].text.split(\"\\n\")"
   ]
  },
  {
   "cell_type": "code",
   "execution_count": null,
   "id": "4f6dd938-c310-45ef-b174-50d6a37f8b74",
   "metadata": {},
   "outputs": [],
   "source": [
    "list_char"
   ]
  },
  {
   "cell_type": "code",
   "execution_count": null,
   "id": "789a0cfe-cf7d-4029-904e-acd3719bbe4a",
   "metadata": {},
   "outputs": [],
   "source": [
    "# Put the characters into a dataframe\n",
    "\n",
    "df = pd.DataFrame(list_char, columns =  [\"character\"])"
   ]
  },
  {
   "cell_type": "code",
   "execution_count": null,
   "id": "fe47a8d1-acda-41ec-ab31-333e7bf5b758",
   "metadata": {},
   "outputs": [],
   "source": [
    "df"
   ]
  },
  {
   "cell_type": "code",
   "execution_count": null,
   "id": "a9d85713-cca8-446b-bae4-a4237f294255",
   "metadata": {},
   "outputs": [],
   "source": [
    "# Close the Chrome window\n",
    "\n",
    "driver.quit()"
   ]
  },
  {
   "cell_type": "code",
   "execution_count": null,
   "id": "055542c5-d8c4-48ac-ae4a-ec77b5a10c1c",
   "metadata": {},
   "outputs": [],
   "source": [
    "# Save the dataframe as csv\n",
    "\n",
    "df.to_csv('Alice_characters.csv')"
   ]
  },
  {
   "cell_type": "markdown",
   "id": "72da4382-810e-46a9-8311-86a30edf0ced",
   "metadata": {
    "tags": []
   },
   "source": [
    "## Scraping Wikipedia with requests and bs4"
   ]
  },
  {
   "cell_type": "code",
   "execution_count": null,
   "id": "44f789e1-c8b3-476a-b861-e11983d61cf7",
   "metadata": {},
   "outputs": [],
   "source": [
    "# Second portion\n",
    "\n",
    "import requests\n",
    "from bs4 import BeautifulSoup"
   ]
  },
  {
   "cell_type": "code",
   "execution_count": null,
   "id": "7991a54c-db7d-4b06-9a44-5fe4b32241cd",
   "metadata": {
    "tags": []
   },
   "outputs": [],
   "source": [
    "# Get URL\n",
    "\n",
    "page = requests.get(\"https://en.wikipedia.org/wiki/Alice_in_Wonderland_(franchise)\")"
   ]
  },
  {
   "cell_type": "code",
   "execution_count": null,
   "id": "1d23f8ba-28da-4697-87e3-b0d0a4ae326b",
   "metadata": {},
   "outputs": [],
   "source": [
    "# Create soup and get title\n",
    "\n",
    "soup = BeautifulSoup(page.text, 'html.parser')\n",
    "print(soup.title)"
   ]
  },
  {
   "cell_type": "code",
   "execution_count": null,
   "id": "00fefa11-95f8-484f-990e-1ba303d6b531",
   "metadata": {
    "tags": []
   },
   "outputs": [],
   "source": [
    "print(soup.text)"
   ]
  },
  {
   "cell_type": "code",
   "execution_count": null,
   "id": "c290b890-a0e0-4576-8f33-51625584a0d5",
   "metadata": {},
   "outputs": [],
   "source": [
    "text = soup.get_text()"
   ]
  },
  {
   "cell_type": "code",
   "execution_count": null,
   "id": "9d109ec0-10fe-45e0-99d7-2664fd58b571",
   "metadata": {},
   "outputs": [],
   "source": [
    "text = text.encode('utf-8')"
   ]
  },
  {
   "cell_type": "code",
   "execution_count": null,
   "id": "a5edd62b-5f0b-4c85-a2de-a9336e150106",
   "metadata": {
    "tags": []
   },
   "outputs": [],
   "source": [
    "with open('Alice_article_Wiki.txt', 'wb') as f: \n",
    "    f.write(text)"
   ]
  }
 ],
 "metadata": {
  "kernelspec": {
   "display_name": "Python [conda env:venv_alice]",
   "language": "python",
   "name": "conda-env-venv_alice-py"
  },
  "language_info": {
   "codemirror_mode": {
    "name": "ipython",
    "version": 3
   },
   "file_extension": ".py",
   "mimetype": "text/x-python",
   "name": "python",
   "nbconvert_exporter": "python",
   "pygments_lexer": "ipython3",
   "version": "3.13.2"
  }
 },
 "nbformat": 4,
 "nbformat_minor": 5
}
