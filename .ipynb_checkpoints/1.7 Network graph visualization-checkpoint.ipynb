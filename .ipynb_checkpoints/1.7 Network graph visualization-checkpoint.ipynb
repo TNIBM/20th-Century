{
 "cells": [
  {
   "cell_type": "markdown",
   "id": "36669054-10e4-40d3-8f93-ec62e2fbc2a6",
   "metadata": {
    "tags": []
   },
   "source": [
    "# 1.7 Network graph visualization"
   ]
  },
  {
   "cell_type": "code",
   "execution_count": 2,
   "id": "ed48db12-4679-4e5c-b376-cc1db75381a6",
   "metadata": {},
   "outputs": [
    {
     "ename": "ModuleNotFoundError",
     "evalue": "No module named 'networkx'",
     "output_type": "error",
     "traceback": [
      "\u001b[1;31m---------------------------------------------------------------------------\u001b[0m",
      "\u001b[1;31mModuleNotFoundError\u001b[0m                       Traceback (most recent call last)",
      "Cell \u001b[1;32mIn[2], line 3\u001b[0m\n\u001b[0;32m      1\u001b[0m \u001b[38;5;28;01mimport\u001b[39;00m \u001b[38;5;21;01mpandas\u001b[39;00m \u001b[38;5;28;01mas\u001b[39;00m \u001b[38;5;21;01mpd\u001b[39;00m\n\u001b[0;32m      2\u001b[0m \u001b[38;5;28;01mimport\u001b[39;00m \u001b[38;5;21;01mnumpy\u001b[39;00m \u001b[38;5;28;01mas\u001b[39;00m \u001b[38;5;21;01mnp\u001b[39;00m\n\u001b[1;32m----> 3\u001b[0m \u001b[38;5;28;01mimport\u001b[39;00m \u001b[38;5;21;01mnetworkx\u001b[39;00m \u001b[38;5;28;01mas\u001b[39;00m \u001b[38;5;21;01mnx\u001b[39;00m\n\u001b[0;32m      4\u001b[0m \u001b[38;5;28;01mimport\u001b[39;00m \u001b[38;5;21;01mos\u001b[39;00m\n\u001b[0;32m      5\u001b[0m \u001b[38;5;28;01mimport\u001b[39;00m \u001b[38;5;21;01mmatplotlib\u001b[39;00m\u001b[38;5;21;01m.\u001b[39;00m\u001b[38;5;21;01mpyplot\u001b[39;00m \u001b[38;5;28;01mas\u001b[39;00m \u001b[38;5;21;01mplt\u001b[39;00m\n",
      "\u001b[1;31mModuleNotFoundError\u001b[0m: No module named 'networkx'"
     ]
    }
   ],
   "source": [
    "import pandas as pd\n",
    "import numpy as np\n",
    "import networkx as nx\n",
    "import os\n",
    "import matplotlib.pyplot as plt\n",
    "from pyvis.network import Network\n",
    "import seaborn as sns\n",
    "import pyvis"
   ]
  },
  {
   "cell_type": "code",
   "execution_count": null,
   "id": "235c50f1-9bf6-4134-87ed-78c73d32523e",
   "metadata": {},
   "outputs": [],
   "source": [
    "# Import relationship data\n",
    "\n",
    "relationship_df = pd.read_csv('alice_relationship.csv', index_col = 0)"
   ]
  },
  {
   "cell_type": "code",
   "execution_count": null,
   "id": "d6b984e0-7d86-4d03-b7a6-dfe0b8b47b64",
   "metadata": {
    "tags": []
   },
   "outputs": [],
   "source": [
    "relationship_df"
   ]
  },
  {
   "cell_type": "code",
   "execution_count": null,
   "id": "1f9a158a-b751-43ae-8d17-525fc289171e",
   "metadata": {},
   "outputs": [],
   "source": [
    "# Create a graph from a pandas dataframe\n",
    "\n",
    "G = nx.from_pandas_edgelist(relationship_df, \n",
    "                            source = \"source\", \n",
    "                            target = \"target\", \n",
    "                            edge_attr = \"value\", \n",
    "                            create_using = nx.Graph())"
   ]
  },
  {
   "cell_type": "markdown",
   "id": "4f1b45f4-9326-4d20-8d32-8bf46ac06e57",
   "metadata": {
    "tags": []
   },
   "source": [
    "#### Graph visualization - Networkx"
   ]
  },
  {
   "cell_type": "code",
   "execution_count": null,
   "id": "9b75c9d1-abec-4af5-87b8-57cdb10f0fb9",
   "metadata": {
    "tags": []
   },
   "outputs": [],
   "source": [
    "h = plt.figure(figsize = (7,7))\n",
    "pos = nx.kamada_kawai_layout(G)\n",
    "nx.draw(G, with_labels = True, node_color = 'red', edge_cmap = plt.cm.Blues, pos = pos)\n",
    "plt.show() "
   ]
  },
  {
   "cell_type": "code",
   "execution_count": null,
   "id": "47e0bdb2-6a45-4dde-b3a5-7cd003ea01f7",
   "metadata": {},
   "outputs": [],
   "source": [
    "h.savefig('networkx_plt_alice.png')"
   ]
  },
  {
   "cell_type": "markdown",
   "id": "272f5ede-8495-4116-b236-f01f1b8bc45d",
   "metadata": {},
   "source": [
    "#### Graph visualization - Pyvis"
   ]
  },
  {
   "cell_type": "code",
   "execution_count": null,
   "id": "1c8f5062-e7cd-4918-9563-2ab35b9dcb4c",
   "metadata": {
    "tags": []
   },
   "outputs": [],
   "source": [
    "# Define net object\n",
    "\n",
    "net = Network()\n",
    "net = Network(notebook = True,width=\"900px\", height=\"800px\", bgcolor='#222222', font_color='white')\n",
    "\n",
    "# Define nodes from the G object\n",
    "node_degree = dict(G.degree)\n",
    "\n",
    "# Setting up node size attributes\n",
    "nx.set_node_attributes(G, node_degree, 'size')\n",
    "net.from_nx(G)\n",
    "net.show_buttons(filter_ = True)\n",
    "net.repulsion()\n",
    "net.show(\"alice.html\")"
   ]
  },
  {
   "cell_type": "markdown",
   "id": "c60e4891-007c-46cc-a4fd-67d8ec0e14e1",
   "metadata": {
    "tags": []
   },
   "source": [
    "### Community detection - Leiden algorithm"
   ]
  },
  {
   "cell_type": "code",
   "execution_count": null,
   "id": "882ff013-1974-4ccd-b7e9-28745ddb56ef",
   "metadata": {},
   "outputs": [],
   "source": [
    "from cdlib import algorithms\n",
    "coms = algorithms.leiden(G)"
   ]
  },
  {
   "cell_type": "code",
   "execution_count": null,
   "id": "884adde6-c322-4124-85dc-b82cbfac91e5",
   "metadata": {},
   "outputs": [],
   "source": [
    "type(coms)"
   ]
  },
  {
   "cell_type": "code",
   "execution_count": null,
   "id": "f7ac3aa0-b15c-44e2-aaeb-fe1205db517d",
   "metadata": {},
   "outputs": [],
   "source": [
    "new_com = coms.to_node_community_map()"
   ]
  },
  {
   "cell_type": "code",
   "execution_count": null,
   "id": "f301655b-5d58-4fb2-99cc-6241c97925ad",
   "metadata": {},
   "outputs": [],
   "source": [
    "new_com"
   ]
  },
  {
   "cell_type": "code",
   "execution_count": null,
   "id": "3ffb2c15-2c77-405f-80a6-3568dbabd222",
   "metadata": {},
   "outputs": [],
   "source": [
    "# Put the output from new_com into a dictionary\n",
    "\n",
    "dict_com = {k:v[0] for k,v in new_com.items()}"
   ]
  },
  {
   "cell_type": "code",
   "execution_count": null,
   "id": "85d4d943-beff-4dd0-a1c8-0380d0964453",
   "metadata": {},
   "outputs": [],
   "source": [
    "dict_com"
   ]
  },
  {
   "cell_type": "code",
   "execution_count": null,
   "id": "49bf3c87-c193-4e39-a566-195fd28e01c3",
   "metadata": {
    "tags": []
   },
   "outputs": [],
   "source": [
    "# Rerun network graph with the communities as an argument\n",
    "\n",
    "nx.set_node_attributes(G, dict_com, 'group')\n",
    "com_net = Network(notebook = True, width=\"1300px\", height=\"700px\", bgcolor='#222222', font_color='white')\n",
    "com_net.from_nx(G)\n",
    "com_net.show_buttons(filter_ = True)\n",
    "com_net.repulsion()\n",
    "com_net.show(\"alice_communities_leiden.html\")"
   ]
  },
  {
   "cell_type": "markdown",
   "id": "d81eae98-009c-4036-ab9e-f97577f113cb",
   "metadata": {},
   "source": [
    "### The most important characters in Alice in Wonderland"
   ]
  },
  {
   "cell_type": "code",
   "execution_count": null,
   "id": "e56775cd-fa41-4ed0-badf-f94da8adf9b8",
   "metadata": {
    "tags": []
   },
   "outputs": [],
   "source": [
    "# Degree centrality\n",
    "\n",
    "degree_dict = nx.degree_centrality(G)\n",
    "degree_dict"
   ]
  },
  {
   "cell_type": "code",
   "execution_count": null,
   "id": "e1d4c2c4-89ff-4c52-af29-94b6f677a7be",
   "metadata": {},
   "outputs": [],
   "source": [
    "degree_df = pd.DataFrame(degree_dict.items(), columns=['characters','centrality'])"
   ]
  },
  {
   "cell_type": "code",
   "execution_count": null,
   "id": "c5ec4050-6650-4498-a4b4-5ff8beca8721",
   "metadata": {
    "tags": []
   },
   "outputs": [],
   "source": [
    "degree_df.sort_values(by = ['centrality'], ascending=False, inplace = True)"
   ]
  },
  {
   "cell_type": "code",
   "execution_count": null,
   "id": "f4afbfba-4575-4f82-8c7a-e91e8377154e",
   "metadata": {},
   "outputs": [],
   "source": [
    "# Plot the degree centrality\n",
    "\n",
    "plt.figure(figsize = (10, 4))\n",
    "with sns.dark_palette(\"xkcd:blue\", 22):\n",
    "    sns.barplot(x = \"centrality\", y = \"characters\",\n",
    "    saturation = 0.9, data = degree_df).set_title(\"Alice in Wonderland - degree centrality\")"
   ]
  },
  {
   "cell_type": "code",
   "execution_count": null,
   "id": "47160a39-1add-4ada-aa89-a34ef2cfad52",
   "metadata": {},
   "outputs": [],
   "source": [
    "# Closeness centrality\n",
    "\n",
    "closeness_dict = nx.closeness_centrality(G)\n",
    "closeness_df = pd.DataFrame(closeness_dict.items(), columns=['characters','centrality'])"
   ]
  },
  {
   "cell_type": "code",
   "execution_count": null,
   "id": "c094f8cf-6ba3-4b88-bf9b-68bb71df750a",
   "metadata": {},
   "outputs": [],
   "source": [
    "closeness_df.sort_values(by = ['centrality'], ascending=False, inplace = True)"
   ]
  },
  {
   "cell_type": "code",
   "execution_count": null,
   "id": "9e3a7149-2375-4202-bad0-f112d50b233e",
   "metadata": {},
   "outputs": [],
   "source": [
    "plt.figure(figsize = (10, 4))\n",
    "with sns.dark_palette(\"xkcd:blue\", 22):\n",
    "    sns.barplot(x = \"centrality\", y = \"characters\",\n",
    "    saturation = 0.9, data = closeness_df).set_title(\"Alice in Wonderland - closeness centrality\")"
   ]
  },
  {
   "cell_type": "code",
   "execution_count": null,
   "id": "92fd2d1a-e705-4235-8d6c-436783e2b44c",
   "metadata": {},
   "outputs": [],
   "source": [
    "# Betweenness centrality\n",
    "\n",
    "betweenness_dict = nx.betweenness_centrality(G)\n",
    "betweennes_df = pd.DataFrame(betweenness_dict.items(), columns=['characters','centrality'])"
   ]
  },
  {
   "cell_type": "code",
   "execution_count": null,
   "id": "280318dc-cec2-4a48-8785-735e6f2bae43",
   "metadata": {},
   "outputs": [],
   "source": [
    "betweennes_df.sort_values(by = ['centrality'], ascending=False, inplace = True)"
   ]
  },
  {
   "cell_type": "code",
   "execution_count": null,
   "id": "b446a5a8-fe2d-490c-b88d-a63db9698966",
   "metadata": {},
   "outputs": [],
   "source": [
    "plt.figure(figsize = (10, 4))\n",
    "with sns.dark_palette(\"xkcd:blue\", 22):\n",
    "    sns.barplot(x = \"centrality\", y = \"characters\",\n",
    "    saturation = 0.9, data = betweennes_df).set_title(\"Alice in Wonderland - betweenness centrality\")"
   ]
  },
  {
   "cell_type": "code",
   "execution_count": null,
   "id": "63d7574e-c9c9-4c08-a70e-2ad52386b572",
   "metadata": {},
   "outputs": [],
   "source": [
    "# Save centrality measures\n",
    "nx.set_node_attributes(G, degree_dict, 'degree_centrality')\n",
    "nx.set_node_attributes(G, betweenness_dict, 'betweenness_centrality')\n",
    "nx.set_node_attributes(G, closeness_dict, 'closeness_centrality')"
   ]
  }
 ],
 "metadata": {
  "kernelspec": {
   "display_name": "Python [conda env:venv_alice]",
   "language": "python",
   "name": "conda-env-venv_alice-py"
  },
  "language_info": {
   "codemirror_mode": {
    "name": "ipython",
    "version": 3
   },
   "file_extension": ".py",
   "mimetype": "text/x-python",
   "name": "python",
   "nbconvert_exporter": "python",
   "pygments_lexer": "ipython3",
   "version": "3.13.2"
  }
 },
 "nbformat": 4,
 "nbformat_minor": 5
}
