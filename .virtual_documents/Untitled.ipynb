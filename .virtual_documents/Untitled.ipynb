import pandas as pd
import numpy as np
import spacy
from spacy import displacy
import networkx as nx
import os
import matplotlib.pyplot as plt
import scipy
import re


# Download English module

!python -m spacy download en_core_web_sm


# Load spacy English module

NER = spacy.load("en_core_web_sm")





# Load the book

with open('20th_century.txt', 'r', errors='ignore') as file:
    data = file.read().replace('\n', '')


book = NER(data)


# Visualize identified entities

displacy.render(book[273:20000], style = "ent", jupyter = True)





df_sentences = [] # empty shell to store results

# Loop through sentences, get entity list for each sentence
for sent in book.sents:
    entity_list = [ent.text for ent in sent.ents]
    df_sentences.append({"sentence": sent, "entities": entity_list})
    
df_sentences = pd.DataFrame(df_sentences)


df_sentences.head(10)





# Import characters

countries_df = pd.read_csv("countries_list_20th_century_1.5.csv", index_col = 0)


countries_df.head()





# Function to filter out entities not of interest

def filter_entity(ent_list, countries_df):
    return [ent for ent in ent_list 
            if ent in list(countries_df['country_alias'])]


# Check

filter_entity(["Afghanistan", "CF", "2"], countries_df)


print(countries_df.columns)




